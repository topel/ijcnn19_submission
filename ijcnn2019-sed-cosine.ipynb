{
 "cells": [
  {
   "cell_type": "markdown",
   "metadata": {
    "heading_collapsed": true
   },
   "source": [
    "# imports"
   ]
  },
  {
   "cell_type": "code",
   "execution_count": 4,
   "metadata": {
    "hidden": true
   },
   "outputs": [],
   "source": [
    "import numpy as np\n",
    "import matplotlib.pyplot as plt\n",
    "import matplotlib.cm as cm\n",
    "from mpl_toolkits.axes_grid1 import make_axes_locatable\n",
    "\n",
    "import os \n",
    "\n",
    "from scipy.misc import imresize\n",
    "from sklearn.svm import LinearSVC\n",
    "from sklearn.metrics import confusion_matrix, accuracy_score, f1_score\n",
    "import pickle\n",
    "\n",
    "import sys\n",
    "sys.path.append('utils')\n",
    "\n",
    "import Metrics\n",
    "from Binarizer import *\n",
    "from Encoder import Encoder\n",
    "from datasetGenerator import DCASE2018\n",
    "\n",
    "from evaluation_measures import event_based_evaluation\n",
    "from dcase_util.containers import MetaDataContainer # dependency: dcase-util 0.2.4\n",
    "\n"
   ]
  },
  {
   "cell_type": "code",
   "execution_count": 5,
   "metadata": {
    "hidden": true
   },
   "outputs": [],
   "source": [
    "import keras \n",
    "\n",
    "from keras.models import model_from_json, load_model\n",
    "\n",
    "from keras import optimizers\n",
    "from keras.models import Model, Sequential\n",
    "from keras.layers import Input, Dense, GlobalAveragePooling2D, GlobalMaxPooling2D, Lambda, \\\n",
    "    Flatten, Dropout, Conv2D, MaxPooling2D, BatchNormalization, Activation, TimeDistributed, \\\n",
    "    GRU, Reshape, Bidirectional, GlobalAveragePooling1D, GlobalMaxPooling1D, SpatialDropout2D, \\\n",
    "    Concatenate, Multiply\n",
    "from keras import backend as K\n",
    "\n",
    "import tensorflow as tf"
   ]
  },
  {
   "cell_type": "code",
   "execution_count": 6,
   "metadata": {
    "hidden": true
   },
   "outputs": [
    {
     "data": {
      "text/plain": [
       "'channels_last'"
      ]
     },
     "execution_count": 6,
     "metadata": {},
     "output_type": "execute_result"
    }
   ],
   "source": [
    "K.set_image_data_format(\"channels_last\")\n",
    "K.image_data_format()"
   ]
  },
  {
   "cell_type": "code",
   "execution_count": 7,
   "metadata": {
    "hidden": true
   },
   "outputs": [],
   "source": [
    "K.clear_session()"
   ]
  },
  {
   "cell_type": "code",
   "execution_count": 8,
   "metadata": {
    "hidden": true
   },
   "outputs": [],
   "source": [
    "# set seeds\n",
    "from numpy.random import seed\n",
    "seed(123) \n",
    "\n",
    "from tensorflow import set_random_seed\n",
    "set_random_seed(1234)"
   ]
  },
  {
   "cell_type": "markdown",
   "metadata": {
    "heading_collapsed": true
   },
   "source": [
    "# load data"
   ]
  },
  {
   "cell_type": "code",
   "execution_count": 9,
   "metadata": {
    "hidden": true
   },
   "outputs": [
    {
     "name": "stdout",
     "output_type": "stream",
     "text": [
      "mel\n"
     ]
    }
   ],
   "source": [
    "metaRoot = '/baie/corpus/DCASE2018/task4/metadata'\n",
    "featRoot = '/baie/corpus/DCASE2018/task4/FEATURES'\n",
    "feat = [\"mel\"]\n",
    "# feat = [\"mel\", \"stack\"]\n",
    "normalizer=None\n",
    "dataset = DCASE2018(\n",
    "    featureRoot=featRoot,\n",
    "    metaRoot=metaRoot,\n",
    "    features=feat,\n",
    "    validationPercent=0.2,\n",
    "    normalizer=normalizer\n",
    ")\n"
   ]
  },
  {
   "cell_type": "code",
   "execution_count": 10,
   "metadata": {
    "hidden": true
   },
   "outputs": [
    {
     "data": {
      "text/plain": [
       "((1763, 64, 431, 1), (438, 64, 431, 1))"
      ]
     },
     "execution_count": 10,
     "metadata": {},
     "output_type": "execute_result"
    }
   ],
   "source": [
    "dataset.trainingDataset['mel']['input'].shape, dataset.validationDataset['mel']['input'].shape"
   ]
  },
  {
   "cell_type": "code",
   "execution_count": 9,
   "metadata": {
    "hidden": true
   },
   "outputs": [
    {
     "name": "stdout",
     "output_type": "stream",
     "text": [
      "Running_water 9\n",
      "Blender 8\n",
      "Frying 6\n",
      "Vacuum_cleaner 4\n",
      "Speech 1\n",
      "Alarm_bell_ringing 0\n",
      "Dog 2\n",
      "Dishes 5\n",
      "Electric_shaver_toothbrush 7\n",
      "Cat 3\n"
     ]
    }
   ],
   "source": [
    "for k,v in DCASE2018.class_correspondance.items():\n",
    "    print(k,v)"
   ]
  },
  {
   "cell_type": "code",
   "execution_count": 11,
   "metadata": {
    "hidden": true
   },
   "outputs": [
    {
     "data": {
      "text/plain": [
       "((1763, 64, 431, 1), (438, 64, 431, 1), (1763, 10), (438, 10))"
      ]
     },
     "execution_count": 11,
     "metadata": {},
     "output_type": "execute_result"
    }
   ],
   "source": [
    "### load saved subsets for reproductibility (always the same train/dev subsets)\n",
    "loaded = np.load('../thomas_subsets/subsets.npz')\n",
    "x_train = loaded['x_train']\n",
    "x_val = loaded['x_val']\n",
    "y_train = loaded['y_train']\n",
    "y_val = loaded['y_val']\n",
    "\n",
    "x_train.shape, x_val.shape, y_train.shape, y_val.shape\n"
   ]
  },
  {
   "cell_type": "code",
   "execution_count": 12,
   "metadata": {
    "hidden": true
   },
   "outputs": [
    {
     "data": {
      "text/plain": [
       "((279, 64, 431, 1),\n",
       " [{'event_label': 'Vacuum_cleaner',\n",
       "   'filename': 'Y00pbt6aJV8Y_350.000_360.000.wav',\n",
       "   'offset': 9.971,\n",
       "   'onset': 0.0},\n",
       "  {'event_label': 'Vacuum_cleaner',\n",
       "   'filename': 'Y00pK0GMmE9s_70.000_80.000.wav',\n",
       "   'offset': 10.0,\n",
       "   'onset': 0.0},\n",
       "  {'event_label': 'Frying',\n",
       "   'filename': 'Y02sD1KJeoGA_50.000_60.000.wav',\n",
       "   'offset': 10.0,\n",
       "   'onset': 0.0}],\n",
       " ['Y0UN02RkbG_U_7.000_17.000.wav.npy'],\n",
       " ['Vacuum_cleaner', 'Speech'],\n",
       " [['Cat'],\n",
       "  ['Blender', 'Speech'],\n",
       "  ['Vacuum_cleaner', 'Speech'],\n",
       "  ['Blender'],\n",
       "  ['Speech', 'Dog']],\n",
       " array([[0., 0., 0., 1., 0., 0., 0., 0., 0., 0.],\n",
       "        [0., 1., 0., 0., 0., 0., 0., 0., 1., 0.],\n",
       "        [0., 1., 0., 0., 1., 0., 0., 0., 0., 0.],\n",
       "        [0., 0., 0., 0., 0., 0., 0., 0., 1., 0.],\n",
       "        [0., 1., 1., 0., 0., 0., 0., 0., 0., 0.]]))"
      ]
     },
     "execution_count": 12,
     "metadata": {},
     "output_type": "execute_result"
    }
   ],
   "source": [
    "# Load the test data, create the test dataset\n",
    "# load the file list\n",
    "\n",
    "featTestPath = featRoot + '/test/mel' \n",
    "featTestList = os.listdir(featTestPath)\n",
    "\n",
    "# load the meta data ----\n",
    "ref_event_list = MetaDataContainer()   \n",
    "ref_event_list.load(filename=dataset.meta_test)\n",
    "\n",
    "dico_y_test = {} # keys: .wav.npy files, values: y label\n",
    "for el in ref_event_list:\n",
    "    fname=el['filename']\n",
    "    label=el['event_label']\n",
    "    # num_label=DCASE2018.class_correspondance[el['event_label']]\n",
    "    if fname + '.npy' in  dico_y_test:\n",
    "        if label not in dico_y_test[fname + '.npy']: \n",
    "            dico_y_test[fname + '.npy'].append(label)\n",
    "    else:\n",
    "        dico_y_test[fname + '.npy'] = [label]\n",
    "\n",
    "# metaPath = metaRoot + \"/test.csv\"\n",
    "# with open(metaPath, \"r\") as metaFile:\n",
    "#     metadata = metaFile.read().splitlines()[1:]\n",
    "    \n",
    "# metadata = [i.split(\"\\t\") for i in metadata]\n",
    "\n",
    "# load the features and create y_test\n",
    "featTest = []\n",
    "y_test_lists = []\n",
    "\n",
    "y_test = np.zeros((len(featTestList), dataset.nbClass))\n",
    "\n",
    "for ind, file in enumerate(featTestList):\n",
    "    path = os.path.join(featTestPath, file)\n",
    "    feature = np.load(path)\n",
    "       \n",
    "    # preprocessing\n",
    "    feature = np.expand_dims(feature, axis=-1)\n",
    "    featTest.append(feature)\n",
    "    \n",
    "    # y labels\n",
    "    y_test_lists.append(dico_y_test[file])\n",
    "    for ev in dico_y_test[file]:\n",
    "        y_test[ind, DCASE2018.class_correspondance[ev]] = 1\n",
    "        \n",
    "featTest = np.array(featTest)\n",
    "\n",
    "featTest.shape, ref_event_list[:3], featTestList[:1], dico_y_test['Y0kAaPH2wrvM_140.000_150.000.wav.npy'], y_test_lists[:5], y_test[:5]"
   ]
  },
  {
   "cell_type": "code",
   "execution_count": null,
   "metadata": {
    "hidden": true
   },
   "outputs": [],
   "source": [
    "# Which samples are Dishes in y_val?\n",
    "class_index_dishes = DCASE2018.class_correspondance['Dishes']\n",
    "samples_dishes_indices = np.where(y_val[:,class_index_dishes]==1)[0]\n",
    "\n",
    "# mask_ones_ten_for_dishes = np.ones([y_trian.shape[0],])\n",
    "# mask_ones_ten_for_dishes[samples_dishes_indices] *= 10\n",
    "\n",
    "samples_dishes_indices.shape, samples_dishes_indices[:5]"
   ]
  },
  {
   "cell_type": "code",
   "execution_count": 13,
   "metadata": {
    "hidden": true
   },
   "outputs": [
    {
     "data": {
      "text/plain": [
       "([15, 23, 45, 49, 65, 117, 131, 155, 172, 181, 202, 208, 219, 220, 253, 255],\n",
       " ['Y1NYJAJXYyNY_350.000_360.000.wav.npy',\n",
       "  'Y3eN7ujFJzXQ_170.000_180.000.wav.npy',\n",
       "  'Y9mdHUoBmtiE_0.000_10.000.wav.npy',\n",
       "  'Y5J603SAj7QM_210.000_220.000.wav.npy',\n",
       "  'Y4Yo_DkHXXjI_170.000_180.000.wav.npy',\n",
       "  'Y4nv-GOe3h54_110.000_120.000.wav.npy',\n",
       "  'Y6kKs7UKCUBA_70.000_80.000.wav.npy',\n",
       "  'YDcuiRMRt1gs_30.000_40.000.wav.npy',\n",
       "  'YAXpA_dWErVc_530.000_540.000.wav.npy',\n",
       "  'YAwjEqHYHp7I_110.000_120.000.wav.npy',\n",
       "  'Y5qx1HGIWJww_170.000_180.000.wav.npy',\n",
       "  'Y9xFa6pE7120_270.000_280.000.wav.npy',\n",
       "  'YE31PuovQDic_380.000_390.000.wav.npy',\n",
       "  'Y1WdoejoSGj8_60.000_70.000.wav.npy',\n",
       "  'YTUOyN4QdPyY_160.000_170.000.wav.npy',\n",
       "  'Y2DF8mtDke8k_460.000_470.000.wav.npy'],\n",
       " 15)"
      ]
     },
     "execution_count": 13,
     "metadata": {},
     "output_type": "execute_result"
    }
   ],
   "source": [
    "# Which samples are Dishes and Frying in y_test?\n",
    "\n",
    "test_samples_dishes_frying_indices = []\n",
    "test_samples_dishes_frying_filenames = []\n",
    "\n",
    "for i,el in enumerate(y_test_lists):\n",
    "        if 'Dishes' in el and 'Frying' in el: \n",
    "            test_samples_dishes_frying_indices.append(i)\n",
    "            test_samples_dishes_frying_filenames.append(featTestList[i])\n",
    "test_samples_dishes_frying_indices, test_samples_dishes_frying_filenames, featTestList.index('Y1NYJAJXYyNY_350.000_360.000.wav.npy')"
   ]
  },
  {
   "cell_type": "code",
   "execution_count": 14,
   "metadata": {
    "hidden": true
   },
   "outputs": [
    {
     "data": {
      "text/plain": [
       "(['Y57wLY6lcZus_80.000_90.000.wav.npy',\n",
       "  'YnsxAMfzY_Wo_160.000_170.000.wav.npy',\n",
       "  'Yi7VpXVrrTPs_30.000_40.000.wav.npy',\n",
       "  'Y7HSpbwWrii0_10.000_20.000.wav.npy',\n",
       "  'Y4dujzoc7MHE_170.000_180.000.wav.npy',\n",
       "  'YM1-0hqpMYDo_0.000_10.000.wav.npy',\n",
       "  'YhlG2-K5ZIkY_80.000_90.000.wav.npy',\n",
       "  'Y2yTAfCLLiRs_30.000_40.000.wav.npy',\n",
       "  'YOTsn73eqbfc_10.000_20.000.wav.npy',\n",
       "  'YSuKtxWhkWjo_40.000_50.000.wav.npy',\n",
       "  'Y-glXSSR3QZM_170.000_180.000.wav.npy',\n",
       "  'YGvWm5TyWgPc_10.000_20.000.wav.npy',\n",
       "  'Y0eh_N-cmcuI_350.000_360.000.wav.npy',\n",
       "  'Y6gbAtSodiJs_20.000_30.000.wav.npy',\n",
       "  'YIXRXuv9v7cM_80.000_90.000.wav.npy',\n",
       "  'Y3dnn1v0osio_530.000_540.000.wav.npy',\n",
       "  'YDGNPn0onZlY_30.000_40.000.wav.npy',\n",
       "  'YSb0N-XshN-c_410.000_420.000.wav.npy',\n",
       "  'YRzxOif-w7mE_0.000_10.000.wav.npy',\n",
       "  'Y3c5KOAOX46I_30.000_40.000.wav.npy',\n",
       "  'YWC41jM0L1i4_0.000_10.000.wav.npy',\n",
       "  'YX_Yu2jbBmVc_3.000_13.000.wav.npy',\n",
       "  'YDGbDRGO2qEw_90.000_100.000.wav.npy',\n",
       "  'Y1vp4q7nBedI_420.000_430.000.wav.npy',\n",
       "  'YP-svHk3eMiU_60.000_70.000.wav.npy',\n",
       "  'Y_HDolAn2_us_60.000_70.000.wav.npy',\n",
       "  'YiEPr3WdvTM0_150.000_160.000.wav.npy',\n",
       "  'Yd86YYbaFeRc_30.000_40.000.wav.npy',\n",
       "  'Y-BJNMHMZDcU_50.000_60.000.wav.npy',\n",
       "  'YIDrS33tGhJo_140.000_150.000.wav.npy',\n",
       "  'YMGVGO9mnvMQ_7.000_17.000.wav.npy',\n",
       "  'YKGET1dnWDnQ_30.000_40.000.wav.npy',\n",
       "  'Y6VQuHBq0IXg_30.000_40.000.wav.npy',\n",
       "  'Y1tFkjBMoUkM_90.000_100.000.wav.npy',\n",
       "  'Y5UMWvLV5DGU_40.000_50.000.wav.npy',\n",
       "  'Y39PfIe5CrPU_30.000_40.000.wav.npy',\n",
       "  'YK_J3sr7Q8nM_40.000_50.000.wav.npy',\n",
       "  'YofDKJJpUhuY_80.000_90.000.wav.npy',\n",
       "  'YzmEIzXrDprw_0.000_10.000.wav.npy',\n",
       "  'YU7iyCO9sKxA_360.000_370.000.wav.npy',\n",
       "  'Y1FADrYkCEjY_30.000_40.000.wav.npy',\n",
       "  'YF91ueYOdGfI_400.000_410.000.wav.npy',\n",
       "  'YI_qBcFL7rys_0.000_3.000.wav.npy',\n",
       "  'YjSlHfmxMjpA_150.000_160.000.wav.npy',\n",
       "  'YAaFnWKLyP-o_160.000_170.000.wav.npy'],\n",
       " 7)"
      ]
     },
     "execution_count": 14,
     "metadata": {},
     "output_type": "execute_result"
    }
   ],
   "source": [
    "# Which samples are alarm in y_test?\n",
    "\n",
    "test_samples_alarm_indices = []\n",
    "test_samples_alarm_filenames = []\n",
    "\n",
    "for i,el in enumerate(y_test_lists):\n",
    "        if 'Alarm_bell_ringing' in el: \n",
    "            test_samples_alarm_indices.append(i)\n",
    "            test_samples_alarm_filenames.append(featTestList[i])\n",
    "test_samples_alarm_filenames, featTestList.index('YnsxAMfzY_Wo_160.000_170.000.wav.npy')"
   ]
  },
  {
   "cell_type": "markdown",
   "metadata": {
    "heading_collapsed": true,
    "hidden": true
   },
   "source": [
    "## load the eval dataset"
   ]
  },
  {
   "cell_type": "code",
   "execution_count": null,
   "metadata": {
    "hidden": true
   },
   "outputs": [],
   "source": [
    "# Load the evaluation set\n",
    "featEvalPath = \"/baie/corpus/DCASE2018/task4/FEATURES/eval/mel\"\n",
    "featEvalList = os.listdir(featEvalPath)\n",
    "\n",
    "# load the meta data ----\n",
    "metaPath = \"/baie/corpus/DCASE2018/task4/metadata/eval.csv\"\n",
    "with open(metaPath, \"r\") as metaFile:\n",
    "    metadata = metaFile.read().splitlines()[1:]\n",
    "    \n",
    "metadata = [i.split(\"\\t\") for i in metadata]\n",
    "\n",
    "# load the features\n",
    "featEval = []\n",
    "for file in tqdm.tqdm(featEvalList):\n",
    "    path = os.path.join(featEvalPath, file)\n",
    "    feature = np.load(path)\n",
    "       \n",
    "    # preprocessing\n",
    "    feature = np.expand_dims(feature, axis=-1)\n",
    "    featEval.append(feature)\n",
    "    \n",
    "featEval = np.array(featEval)\n",
    "featEval.shape"
   ]
  },
  {
   "cell_type": "markdown",
   "metadata": {
    "heading_collapsed": true
   },
   "source": [
    "# util functions"
   ]
  },
  {
   "cell_type": "code",
   "execution_count": 15,
   "metadata": {
    "hidden": true
   },
   "outputs": [],
   "source": [
    "def load_model_from_h5(h5_model_path):\n",
    "    return load_model(h5_model_path)\n",
    "\n",
    "def load_model_from_json(jsonnom, wnom):\n",
    "    with open(jsonnom, 'r') as fh:\n",
    "# with open('dcase2018_task4/results/testing/dense_noTransfer_selu/dense_noTransfer_model.json', 'r') as fh:\n",
    "        mo = model_from_json(fh.read())\n",
    "        mo.load_weights(wnom)\n",
    "    return mo"
   ]
  },
  {
   "cell_type": "code",
   "execution_count": 16,
   "metadata": {
    "hidden": true
   },
   "outputs": [],
   "source": [
    "\n",
    "def save_obj(obj, name ):\n",
    "    with open(name, 'wb') as f:\n",
    "        pickle.dump(obj, f, pickle.HIGHEST_PROTOCOL)\n",
    "\n",
    "def load_obj(name ):\n",
    "    with open(name, 'rb') as f:\n",
    "        return pickle.load(f)"
   ]
  },
  {
   "cell_type": "code",
   "execution_count": 17,
   "metadata": {
    "hidden": true
   },
   "outputs": [],
   "source": [
    "# np.savez('pour_patrice/all_eval_strong_probs.npz', courbes=all_eval_strong_probs)\n",
    "\n",
    "def rescale(array_1d):\n",
    "    \"\"\"rescale between 0 and 1 a 1d-array\"\"\"\n",
    "    return (array_1d - np.min(array_1d[3:-3])) / (np.max(array_1d[3:-3]) - np.min(array_1d[3:-3]))\n",
    "    \n",
    "    \n",
    "def get_prob_curves_for_predicted_classes(class_preds, probs_3d, featTestList, int2className):\n",
    "    dico_prob_curves_for_predicted_classes = {}\n",
    "    for i, fileid in enumerate(featTestList):\n",
    "        fileid_short = fileid.replace(\".wav.npy\", \"\")\n",
    "        dico_prob_curves_for_predicted_classes[fileid_short] = {}\n",
    "        current_classes = np.nonzero(class_preds[i])[0]\n",
    "        for j in range(current_classes.shape[0]):\n",
    "            class_name = int2className[current_classes[j]]\n",
    "            dico_prob_curves_for_predicted_classes[fileid_short][class_name] = rescale(probs_3d[i,:,current_classes[j]])\n",
    "#             dico_prob_curves_for_predicted_classes[fileid_short][class_name] = probs_3d[i,:,current_classes[j]]\n",
    "    \n",
    "    return dico_prob_curves_for_predicted_classes\n",
    "\n",
    "\n",
    "def get_prob_curves_for_all_classes(probs_3d, featTestList, int2className):\n",
    "    dico_prob_curves_for_all_classes = {}\n",
    "    for i, fileid in enumerate(featTestList):\n",
    "        fileid_short = fileid.replace(\".wav.npy\", \"\")\n",
    "        dico_prob_curves_for_all_classes[fileid_short] = {}\n",
    "        for j in range(10):\n",
    "            class_name = int2className[j]\n",
    "            dico_prob_curves_for_all_classes[fileid_short][class_name] = rescale(probs_3d[i,:,j])\n",
    "    \n",
    "    return dico_prob_curves_for_all_classes"
   ]
  },
  {
   "cell_type": "markdown",
   "metadata": {
    "heading_collapsed": true
   },
   "source": [
    "# Audio Tagging"
   ]
  },
  {
   "cell_type": "markdown",
   "metadata": {
    "heading_collapsed": true,
    "hidden": true
   },
   "source": [
    "## define a new model"
   ]
  },
  {
   "cell_type": "code",
   "execution_count": null,
   "metadata": {
    "hidden": true
   },
   "outputs": [],
   "source": [
    "withGRU=False\n",
    "\n",
    "melInput = Input(dataset.getInputShape(\"mel\"))\n",
    "\n",
    "# ---- mel convolution part ----\n",
    "mBlock1 = Conv2D(filters=64, kernel_size=(3, 3), padding=\"same\")(melInput)\n",
    "mBlock1 = BatchNormalization()(mBlock1)\n",
    "mBlock1 = Activation(activation=\"relu\")(mBlock1)\n",
    "mBlock1 = MaxPooling2D(pool_size=(4, 2))(mBlock1)\n",
    "mBlock1 = SpatialDropout2D(0.2, data_format=K.image_data_format())(mBlock1)\n",
    "\n",
    "mBlock2 = Conv2D(filters=128, kernel_size=(3, 3), padding=\"same\")(mBlock1)\n",
    "mBlock2 = BatchNormalization()(mBlock2)\n",
    "mBlock2 = Activation(activation=\"relu\")(mBlock2)\n",
    "mBlock2 = MaxPooling2D(pool_size=(4, 1))(mBlock2)\n",
    "mBlock2 = SpatialDropout2D(0.2, data_format=K.image_data_format())(mBlock2)\n",
    "\n",
    "mBlock3 = Conv2D(filters=256, kernel_size=(3, 3), padding=\"same\")(mBlock2)\n",
    "mBlock3 = BatchNormalization()(mBlock3)\n",
    "mBlock3 = Activation(activation=\"relu\")(mBlock3)\n",
    "mBlock3 = MaxPooling2D(pool_size=(4, 1))(mBlock3)\n",
    "mBlock3 = SpatialDropout2D(0.2, data_format=K.image_data_format())(mBlock3)\n",
    "\n",
    "if withGRU:\n",
    "    targetShape = int(mBlock3.shape[1] * mBlock3.shape[2])\n",
    "    mReshape = Reshape(target_shape=(targetShape, 64))(mBlock3)\n",
    "\n",
    "    gru = Bidirectional(\n",
    "        GRU(kernel_initializer='glorot_uniform', activation='tanh', recurrent_dropout=0.1, dropout=0.1, units=64, return_sequences=True)\n",
    "    )(mReshape)\n",
    "\n",
    "    dense = TimeDistributed(\n",
    "        Dense(64, activation=\"relu\"),\n",
    "    )(gru)\n",
    "\n",
    "    output = TimeDistributed(\n",
    "        Dense(dataset.nbClass, activation=\"sigmoid\"),\n",
    "    )(dense)\n",
    "\n",
    "    output = GlobalAveragePooling1D()(output)\n",
    "else:\n",
    "    \n",
    "    gap = GlobalAveragePooling2D()(mBlock3)\n",
    "    gmp = GlobalMaxPooling2D()(mBlock3)\n",
    "    # flat_gap = Flatten()(gap)\n",
    "    # flat_gmp = Flatten()(gmp)\n",
    "    \n",
    "    concat = Concatenate()([gap, gmp])\n",
    "    \n",
    "    d = Dense(1024, activation=\"relu\")(concat)\n",
    "    d = Dropout(rate=0.5)(d)\n",
    "    \n",
    "    output = Dense(dataset.nbClass, activation=\"sigmoid\")(d)\n",
    "    \n",
    "\n",
    "model1 = Model(inputs=[melInput], outputs=output)\n",
    "model1.summary(line_length=100)\n"
   ]
  },
  {
   "cell_type": "markdown",
   "metadata": {
    "heading_collapsed": true,
    "hidden": true
   },
   "source": [
    "## train on the training subset"
   ]
  },
  {
   "cell_type": "code",
   "execution_count": null,
   "metadata": {
    "hidden": true
   },
   "outputs": [],
   "source": [
    "epochs = 100\n",
    "batch_size = 32\n",
    "metrics = [\"accuracy\", Metrics.f1, Metrics.recall, Metrics.precision]\n",
    "loss = \"binary_crossentropy\"\n",
    "optimizer = optimizers.Adam()\n",
    "print(\"default lr: \", optimizer.lr)\n",
    "\n",
    "def lrate_schedule_fn(epoch):\n",
    "    if epoch < 30:\n",
    "        # print('lr: 1e-3')\n",
    "        return 1e-3\n",
    "    elif epoch < 60:\n",
    "        # print('lr: 1e-4')\n",
    "        return 5e-4\n",
    "    else:\n",
    "        # print('lr: 1e-5')\n",
    "        return 1e-4\n",
    "lrate_scheduler = keras.callbacks.LearningRateScheduler(lrate_schedule_fn)\n",
    "\n",
    "# weight dishes by a 10 factor\n",
    "\n",
    "class_weight = {0: 1, 1: 1, 2: 1, 3: 1, 4: 1, 5: 10, 6: 1, 7: 1, 8: 1, 9: 1}\n",
    "\n",
    "model1.compile(loss=loss, optimizer=optimizer, metrics=metrics)"
   ]
  },
  {
   "cell_type": "code",
   "execution_count": null,
   "metadata": {
    "hidden": true
   },
   "outputs": [],
   "source": [
    "model1.fit(\n",
    "    x=dataset.trainingDataset[\"mel\"][\"input\"],\n",
    "    y=dataset.trainingDataset[\"mel\"][\"output\"],\n",
    "#     class_weight=class_weight,\n",
    "    epochs=epochs,\n",
    "    batch_size=batch_size,\n",
    "    validation_data=(\n",
    "        dataset.validationDataset[\"mel\"][\"input\"],\n",
    "        dataset.validationDataset[\"mel\"][\"output\"]\n",
    "    ),\n",
    "    callbacks = [lrate_scheduler],\n",
    "    verbose=1\n",
    ")"
   ]
  },
  {
   "cell_type": "code",
   "execution_count": null,
   "metadata": {
    "hidden": true
   },
   "outputs": [],
   "source": [
    "# # summarize history for accuracy\n",
    "# plt.plot(model1.history.history['acc'])\n",
    "# plt.plot(model1.history.history['val_acc'])\n",
    "# plt.title('model accuracy')\n",
    "# plt.ylabel('accuracy')\n",
    "# plt.xlabel('epoch')\n",
    "# plt.legend(['train', 'test'], loc='upper left')\n",
    "# plt.show()\n",
    "# # summarize history for loss\n",
    "# plt.plot(model1.history.history['loss'])\n",
    "# plt.plot(model1.history.history['val_loss'])\n",
    "# plt.title('model loss')\n",
    "# plt.ylabel('loss')\n",
    "# plt.xlabel('epoch')\n",
    "# plt.legend(['train', 'test'], loc='upper left')\n",
    "# plt.show()\n",
    "\n",
    "# summarize history for lf1\n",
    "fig = plt.figure()\n",
    "plot = fig.add_subplot(111)\n",
    "\n",
    "plt.plot(model1.history.history['f1'])\n",
    "plt.plot(model1.history.history['val_f1'])\n",
    "# plt.title('f1')\n",
    "plt.ylabel('f1', fontsize=14)\n",
    "plt.xlabel('epoch', fontsize=14)\n",
    "plt.legend(['train', 'val'], loc='upper left', fontsize=14)\n",
    "plt.tick_params(labelsize = 14)\n",
    "# plt.show()\n",
    "# plt.savefig('thomas_models/classif_cnn_100epochs_f1_%.4f_valf1_%.4f_losses.png'%(model1.history.history['f1'][-1], model1.history.history['val_f1'][-1]))\n",
    "\n",
    "# plt.plot(model1.history.history['precision'])\n",
    "# plt.plot(model1.history.history['val_precision'])\n",
    "# plt.ylabel('precision')\n",
    "# plt.xlabel('epoch')\n",
    "# plt.legend(['train', 'val'], loc='upper left')\n",
    "# plt.show()\n",
    "\n",
    "# plt.plot(model1.history.history['recall'])\n",
    "# plt.plot(model1.history.history['val_recall'])\n",
    "# plt.ylabel('recall')\n",
    "# plt.xlabel('epoch')\n",
    "# plt.legend(['train', 'val'], loc='upper left')\n",
    "# plt.show()\n",
    "\n",
    "\n",
    "# model1.history.history.keys()\n",
    "\n",
    "print('f1_%.4f'%model1.history.history['f1'][-1])"
   ]
  },
  {
   "cell_type": "code",
   "execution_count": null,
   "metadata": {
    "hidden": true
   },
   "outputs": [],
   "source": [
    "model1.save('thomas_models/classif_cnn_100epochs_f1_%.4f_valf1_%.4f.h5'%(model1.history.history['f1'][-1], model1.history.history['val_f1'][-1]))"
   ]
  },
  {
   "cell_type": "markdown",
   "metadata": {
    "heading_collapsed": true,
    "hidden": true
   },
   "source": [
    "## load model"
   ]
  },
  {
   "cell_type": "code",
   "execution_count": null,
   "metadata": {
    "hidden": true
   },
   "outputs": [],
   "source": [
    "model_classif = load_model('thomas_models/classif_cnn_100epochs_f1_0.8584_valf1_0.8286.h5', \n",
    "                            custom_objects={'f1': Metrics.f1, 'recall': Metrics.recall, \n",
    "                                            'precision': Metrics.precision})\n",
    "\n",
    "model_classif.summary(line_length=100)"
   ]
  },
  {
   "cell_type": "code",
   "execution_count": null,
   "metadata": {
    "hidden": true
   },
   "outputs": [],
   "source": [
    "# from keras.utils import plot_model\n",
    "# plot_model(model_classif,  show_shapes=True, to_file='model_classif.png')"
   ]
  },
  {
   "cell_type": "markdown",
   "metadata": {
    "heading_collapsed": true,
    "hidden": true
   },
   "source": [
    "## make AT predictions"
   ]
  },
  {
   "cell_type": "code",
   "execution_count": null,
   "metadata": {
    "hidden": true
   },
   "outputs": [],
   "source": [
    "binarizer = Binarizer()\n",
    "binarizer.thresholds = dict()\n",
    "# binarizer.reset() # met tous les seuils a 0.5\n",
    "# binarizer.thresholds=[0.5]*10\n",
    "for key in DCASE2018.class_correspondance:\n",
    "    binarizer.thresholds[key] = 0.5\n",
    "    \n",
    "prediction = model_classif.predict(dataset.validationDataset[\"mel\"][\"input\"])\n",
    "\n",
    "binPrediction = binarizer.binarize(prediction)\n",
    "f1_avant = f1_score(dataset.validationDataset[feat[0]][\"output\"], binPrediction, average=None)\n",
    "\n",
    "binarizer.optimize(dataset.validationDataset[\"mel\"][\"output\"], prediction)\n",
    "binPrediction = binarizer.binarize(prediction)\n",
    "\n",
    "f1 = f1_score(dataset.validationDataset[feat[0]][\"output\"], binPrediction, average=None)\n",
    "\n",
    "\n",
    "print(binarizer.thresholds)\n",
    "\n",
    "print('seuil 0.5:', f1_avant)\n",
    "print('seuils opti:', f1)"
   ]
  },
  {
   "cell_type": "code",
   "execution_count": null,
   "metadata": {
    "hidden": true
   },
   "outputs": [],
   "source": [
    "# indice = featTestList.index('Y0eh_N-cmcuI_350.000_360.000.wav.npy')\n",
    "\n",
    "indice = 4\n",
    "toto = model_classif.predict(featTest[indice][np.newaxis])\n",
    "binPrediction = binarizer.binarize(toto)\n",
    "\n",
    "fichier_id=featTestList[indice].replace('.wav.npy', '')\n",
    "indice, fichier_id, toto.shape, toto, binPrediction"
   ]
  },
  {
   "cell_type": "code",
   "execution_count": null,
   "metadata": {
    "hidden": true
   },
   "outputs": [],
   "source": [
    "all_test_probs = model_classif.predict(featTest)\n",
    "all_test_preds = binarizer.binarize(all_test_probs)\n",
    "\n",
    "all_test_probs.shape, all_test_preds.shape, all_test_probs[4], all_test_preds[:10]"
   ]
  },
  {
   "cell_type": "code",
   "execution_count": null,
   "metadata": {
    "hidden": true
   },
   "outputs": [],
   "source": [
    "DCASE2018.class_correspondance_reverse\n",
    "# for i in range(10):\n",
    "#     print(i, featTestList[i].replace('.npy', ''))"
   ]
  },
  {
   "cell_type": "code",
   "execution_count": null,
   "metadata": {
    "hidden": true
   },
   "outputs": [],
   "source": [
    "# save file list, coarse probs and predictions to PKL\n",
    "dico_coarse_predictions = {'featTestList': featTestList, 'all_test_probs': all_test_probs, 'all_test_preds': all_test_preds}\n",
    "save_obj(dico_coarse_predictions, \"test_predictions/test_coarse_predictions.pkl\" )\n"
   ]
  },
  {
   "cell_type": "markdown",
   "metadata": {
    "heading_collapsed": true,
    "hidden": true
   },
   "source": [
    "## make predictions on Eval"
   ]
  },
  {
   "cell_type": "code",
   "execution_count": null,
   "metadata": {
    "hidden": true
   },
   "outputs": [],
   "source": [
    "all_eval_probs = model_classif.predict(featEval)\n",
    "all_eval_preds = binarizer.binarize(all_eval_probs)\n",
    "\n",
    "all_eval_probs.shape, all_eval_preds.shape, all_eval_probs[4], all_eval_preds[:10]"
   ]
  },
  {
   "cell_type": "code",
   "execution_count": null,
   "metadata": {
    "hidden": true
   },
   "outputs": [],
   "source": [
    "save_obj(dico_prob_curves_for_predicted_classes, \"eval_predictions/eval_strong_predictions.pkl\")\n"
   ]
  },
  {
   "cell_type": "markdown",
   "metadata": {
    "heading_collapsed": true
   },
   "source": [
    "# multi-instance training"
   ]
  },
  {
   "cell_type": "markdown",
   "metadata": {
    "hidden": true
   },
   "source": [
    "## Penalties"
   ]
  },
  {
   "cell_type": "code",
   "execution_count": 18,
   "metadata": {
    "hidden": true
   },
   "outputs": [],
   "source": [
    "\n",
    "def keras_cosine_distance(y_true_y_prob):\n",
    "    \"\"\"\n",
    "    y_true [batch x 1 x C] tensor of 1 rows with C classes\n",
    "    y_prob [batch x T x C] tensor of T rows with C classes\n",
    "\n",
    "    returns:\n",
    "    D [batch x C x C] tensor of cosine similarity scores per sample and between GROUNDTRUTH class probabilities\n",
    "    \"\"\"\n",
    "\n",
    "    y_true, y_prob = y_true_y_prob\n",
    "    \n",
    "    y_true_prob = y_true * y_prob\n",
    "    \n",
    "    y_true_prob_mag = l2_norm_3args(y_true_prob, axis=1, keepdims=True)\n",
    "    \n",
    "    num = K.batch_dot(K.permute_dimensions(y_true_prob, (0,2,1)), y_true_prob)\n",
    "    \n",
    "    # == square() and broadcast to get a (N, C, C) tensor\n",
    "    den = (y_true_prob_mag * K.permute_dimensions(y_true_prob_mag, (0,2,1))) \n",
    "#     print(K.eval(den))\n",
    "#     print('num', K.int_shape(num), K.int_shape(den))\n",
    "    \n",
    "    keras_cos_dist =  num / den\n",
    "\n",
    "    return keras_cos_dist\n",
    "\n",
    "\n",
    "def unit_test_keras_cosine_distance():\n",
    "    \n",
    "    loaded = np.load('thomas_models_expes_losses/dummy_strong_preds_and_y_true.npz')\n",
    "#     print(list(loaded.keys()))\n",
    "    \n",
    "    np_y_true = loaded['np_y_true']\n",
    "    np_y_prob = loaded['np_y_pred']\n",
    "    \n",
    "    np_y_true_prob = np_y_true * np_y_prob\n",
    "#     print(np_y_true_prob)\n",
    "#     print(np_y_true)\n",
    "#     print(np_y_prob)\n",
    "    \n",
    "    \n",
    "    # build dummy model\n",
    "    y_true_tensor = K.constant(np_y_true)\n",
    "    y_prob_tensor = K.constant(np_y_prob)\n",
    "    y_true_input = keras.Input(tensor=y_true_tensor)\n",
    "    y_prob_input = keras.Input(tensor=y_prob_tensor)\n",
    "    dist_output = keras.layers.Lambda(keras_cosine_distance)([y_true_input, y_prob_input])\n",
    "    dist_model = Model(inputs=[y_true_input, y_prob_input], outputs=dist_output)\n",
    "    dist_model.compile(\"sgd\", \"mse\")\n",
    "    \n",
    "    keras_dist = dist_model.predict(None, steps=1)\n",
    "\n",
    "    from sklearn.metrics.pairwise import cosine_similarity as sklearn_cosine_similarity\n",
    "\n",
    "    sk_dist = np.zeros( (2, 10, 10) )\n",
    "    for i in range(2):\n",
    "        sk_dist[i,...] = sklearn_cosine_similarity(np_y_true_prob[i,...].T, np_y_true_prob[i,...].T)\n",
    "    \n",
    "    print(np.allclose(sk_dist, keras_dist))\n",
    "    \n",
    "\n",
    "# unit_test_keras_cosine_distance()"
   ]
  },
  {
   "cell_type": "code",
   "execution_count": 19,
   "metadata": {
    "hidden": true
   },
   "outputs": [],
   "source": [
    "def keras_cosine_penalty(y_true_y_prob):\n",
    "    \"\"\"\n",
    "    y_true [batch x 1 x C] tensor of 1 rows with C classes\n",
    "    y_prob [batch x T x C] tensor of T rows with C classes\n",
    "\n",
    "    returns:\n",
    "    D [batch x C] tensor of penalty based on cosine similarity per sample and between GROUNDTRUTH class probabilities\n",
    "    \"\"\"\n",
    "\n",
    "    y_true, y_prob = y_true_y_prob\n",
    "    \n",
    "    keras_cos_dist = keras_cosine_distance(y_true_y_prob)\n",
    "    print('keras_cos_dist:', K.int_shape(keras_cos_dist))\n",
    "    \n",
    "    penalty = K.sum(keras_cos_dist, axis=-1, keepdims=False)\n",
    "    \n",
    "    # remove cos sim between a class and itself (== 1)\n",
    "    penalty -= y_true[:,0,:]\n",
    "    print('penalty:', K.int_shape(penalty))\n",
    "    \n",
    "    return penalty\n",
    "\n",
    "\n",
    "def unit_test_keras_cosine_penalty():\n",
    "    \n",
    "    loaded = np.load('thomas_models_expes_losses/dummy_strong_preds_and_y_true.npz')\n",
    "#     print(list(loaded.keys()))\n",
    "    \n",
    "    np_y_true = loaded['np_y_true']\n",
    "    np_y_prob = loaded['np_y_pred']\n",
    "    \n",
    "    np_y_true_prob = np_y_true * np_y_prob\n",
    "#     print(np_y_true_prob)\n",
    "#     print(np_y_true)\n",
    "#     print(np_y_prob)\n",
    "    \n",
    "    \n",
    "    # build dummy model\n",
    "    y_true_tensor = K.constant(np_y_true)\n",
    "    y_prob_tensor = K.constant(np_y_prob)\n",
    "    y_true_input = keras.Input(tensor=y_true_tensor)\n",
    "    y_prob_input = keras.Input(tensor=y_prob_tensor)\n",
    "    dist_output = keras.layers.Lambda(keras_cosine_penalty)([y_true_input, y_prob_input])\n",
    "    dist_model = Model(inputs=[y_true_input, y_prob_input], outputs=dist_output)\n",
    "    dist_model.compile(\"sgd\", \"mse\")\n",
    "    \n",
    "    keras_dist = dist_model.predict(None, steps=1)\n",
    "\n",
    "    from sklearn.metrics.pairwise import cosine_similarity as sklearn_cosine_similarity\n",
    "\n",
    "    sk_dist = np.zeros( (2, 10) )\n",
    "    for i in range(2):\n",
    "        sk_dist[i,...] = np.sum(sklearn_cosine_similarity(np_y_true_prob[i,...].T, np_y_true_prob[i,...].T), axis=-1)\n",
    "\n",
    "    print('keras')\n",
    "    print(keras_dist)\n",
    "    print('SK')\n",
    "    print(sk_dist)\n",
    "    print('OK?', np.allclose(sk_dist, keras_dist))\n",
    "    \n",
    "# unit_test_keras_cosine_penalty()\n",
    "\n"
   ]
  },
  {
   "cell_type": "markdown",
   "metadata": {
    "hidden": true
   },
   "source": [
    "## MIL loss function"
   ]
  },
  {
   "cell_type": "code",
   "execution_count": 20,
   "metadata": {
    "hidden": true
   },
   "outputs": [],
   "source": [
    "def l2_norm_3d_tensor(tensor_3d):\n",
    "    return K.epsilon() + K.sqrt(K.sum(K.square(tensor_3d), axis=1, keepdims=False))\n",
    "\n",
    "\n",
    "def euclidean_distance(vects):\n",
    "    # from https://github.com/slychief/ismir2018_tutorial/blob/master/Part_2b_Siamese_Networks.ipynb\n",
    "    x, y = vects\n",
    "    return K.sqrt(K.maximum(K.sum(K.square(x - y), axis=1, keepdims=True), K.epsilon()))\n",
    "\n",
    "\n",
    "def numpy_l2_norm_3d_tensor(tensor_3d):\n",
    "    return 1e-07 + np.sqrt(np.sum(np.square(tensor_3d), axis=1, keepdims=False))\n",
    "\n",
    "\n",
    "def MIL_loss(y_true, y_pred):\n",
    "    \"\"\"\n",
    "    multi-instance loss\n",
    "    :param y_true: tensor, shape: (None, None, None) == (batch_size, time, classes)\n",
    "    :param y_pred: tensor of the same nb of dims as y_true (3-d), \n",
    "        here (None, T, C) i.e. (batch_size, time, classes)\n",
    "    :return: float\n",
    "    \"\"\"\n",
    "    \n",
    "    \n",
    "    max_y_pred_over_time = K.max(y_pred, axis=1, keepdims=False)\n",
    "    \n",
    "    print(K.int_shape(y_pred), K.int_shape(max_y_pred_over_time))\n",
    "    print(K.int_shape(y_true), K.int_shape(y_true[:,0,:]))\n",
    "    \n",
    "    max_loss_ = K.binary_crossentropy(y_true[:,0,:], max_y_pred_over_time) \n",
    "    print('max_loss_', K.int_shape(max_loss_), K.int_shape(K.mean(max_loss_, axis=0)))\n",
    "    \n",
    "#     mean_loss_ = K.binary_crossentropy(y_true[:,0,:]/2, K.mean(y_pred, axis=1, keepdims=False)) \n",
    "#     min_loss_ = K.binary_crossentropy(y_true[:,0,:]*0, K.min(y_pred, axis=1, keepdims=False)) \n",
    "\n",
    "    addSimilarityPenalty=False\n",
    "    if addSimilarityPenalty:\n",
    "        simi = keras_cosine_penalty([y_true, y_pred])\n",
    "        penalty_coeff = 0.1\n",
    "        print('simi', K.int_shape(simi), K.int_shape(penalty_coeff * simi))\n",
    "        return max_loss_ + penalty_coeff * simi \n",
    "    else:\n",
    "        return max_loss_ # + penalty_coeff * simi # + mean_loss_ + min_loss_  # + penalty_coeff * simi\n"
   ]
  },
  {
   "cell_type": "code",
   "execution_count": 21,
   "metadata": {
    "hidden": true
   },
   "outputs": [
    {
     "data": {
      "text/plain": [
       "(array([[1.05360515e-01, 2.23143533e-01, 3.56674939e-01],\n",
       "        [1.00503257e-02, 1.00000015e-07, 1.05360515e-01]], dtype=float32),\n",
       " array([0.228393  , 0.03847031], dtype=float32),\n",
       " (1, 3))"
      ]
     },
     "execution_count": 21,
     "metadata": {},
     "output_type": "execute_result"
    }
   ],
   "source": [
    "from keras.losses import binary_crossentropy\n",
    "\n",
    "def binCE(y_true, y_pred):\n",
    "    return K.binary_crossentropy(y_true, y_pred, from_logits=False)\n",
    "\n",
    "dummy_gt = K.variable(np.array([[0, 1, 1], [1,0,0]], dtype='int32'))\n",
    "dummy_prob = K.variable(np.array([[0.1, 0.8, 0.7], [0.99, 0.0, 0.1]], dtype='float32'))\n",
    "\n",
    "K.eval(binCE(dummy_gt, dummy_prob)), K.eval(binary_crossentropy(dummy_gt, dummy_prob)), np.array([[0, 1, 1]]).shape, "
   ]
  },
  {
   "cell_type": "markdown",
   "metadata": {
    "hidden": true
   },
   "source": [
    "## Define or load an init model "
   ]
  },
  {
   "cell_type": "code",
   "execution_count": 26,
   "metadata": {
    "hidden": true
   },
   "outputs": [],
   "source": [
    "K.clear_session()"
   ]
  },
  {
   "cell_type": "markdown",
   "metadata": {
    "heading_collapsed": true,
    "hidden": true
   },
   "source": [
    "### define new RCNN model with GLU"
   ]
  },
  {
   "cell_type": "code",
   "execution_count": 27,
   "metadata": {
    "hidden": true
   },
   "outputs": [],
   "source": [
    "# CNN with Gated linear unit (GLU) block\n",
    "def block(input):\n",
    "    cnn = Conv2D(128, (3, 3), padding=\"same\", activation=\"linear\", use_bias=False)(input)\n",
    "    cnn = BatchNormalization(axis=-1)(cnn)\n",
    "\n",
    "    cnn1 = Lambda(slice1, output_shape=slice1_output_shape)(cnn)\n",
    "    cnn2 = Lambda(slice2, output_shape=slice2_output_shape)(cnn)\n",
    "\n",
    "    cnn1 = Activation('linear')(cnn1)\n",
    "    cnn2 = Activation('sigmoid')(cnn2)\n",
    "\n",
    "    out = Multiply()([cnn1, cnn2])\n",
    "    return out\n",
    "\n",
    "\n",
    "def slice1(x):\n",
    "    return x[:, :, :, 0:64]\n",
    "\n",
    "\n",
    "def slice2(x):\n",
    "    return x[:, :, :, 64:128]\n",
    "\n",
    "\n",
    "def slice1_output_shape(input_shape):\n",
    "    return tuple([input_shape[0],input_shape[1],input_shape[2],64])\n",
    "\n",
    "\n",
    "def slice2_output_shape(input_shape):\n",
    "    return tuple([input_shape[0],input_shape[1],input_shape[2],64])\n"
   ]
  },
  {
   "cell_type": "code",
   "execution_count": 29,
   "metadata": {
    "hidden": true
   },
   "outputs": [
    {
     "name": "stdout",
     "output_type": "stream",
     "text": [
      "(None, 431, 10) (None, 10)\n",
      "(None, None, None) (None, None)\n",
      "max_loss_ (None, 10) (10,)\n",
      "____________________________________________________________________________________________________\n",
      "Layer (type)                     Output Shape          Param #     Connected to                     \n",
      "====================================================================================================\n",
      "input_2 (InputLayer)             (None, 64, 431, 1)    0                                            \n",
      "____________________________________________________________________________________________________\n",
      "conv2d_4 (Conv2D)                (None, 64, 431, 128)  1152        input_2[0][0]                    \n",
      "____________________________________________________________________________________________________\n",
      "batch_normalization_4 (BatchNorm (None, 64, 431, 128)  512         conv2d_4[0][0]                   \n",
      "____________________________________________________________________________________________________\n",
      "lambda_7 (Lambda)                (None, 64, 431, 64)   0           batch_normalization_4[0][0]      \n",
      "____________________________________________________________________________________________________\n",
      "lambda_8 (Lambda)                (None, 64, 431, 64)   0           batch_normalization_4[0][0]      \n",
      "____________________________________________________________________________________________________\n",
      "activation_7 (Activation)        (None, 64, 431, 64)   0           lambda_7[0][0]                   \n",
      "____________________________________________________________________________________________________\n",
      "activation_8 (Activation)        (None, 64, 431, 64)   0           lambda_8[0][0]                   \n",
      "____________________________________________________________________________________________________\n",
      "multiply_4 (Multiply)            (None, 64, 431, 64)   0           activation_7[0][0]               \n",
      "                                                                   activation_8[0][0]               \n",
      "____________________________________________________________________________________________________\n",
      "max_pooling2d_4 (MaxPooling2D)   (None, 16, 431, 64)   0           multiply_4[0][0]                 \n",
      "____________________________________________________________________________________________________\n",
      "conv2d_5 (Conv2D)                (None, 16, 431, 128)  73728       max_pooling2d_4[0][0]            \n",
      "____________________________________________________________________________________________________\n",
      "batch_normalization_5 (BatchNorm (None, 16, 431, 128)  512         conv2d_5[0][0]                   \n",
      "____________________________________________________________________________________________________\n",
      "lambda_9 (Lambda)                (None, 16, 431, 64)   0           batch_normalization_5[0][0]      \n",
      "____________________________________________________________________________________________________\n",
      "lambda_10 (Lambda)               (None, 16, 431, 64)   0           batch_normalization_5[0][0]      \n",
      "____________________________________________________________________________________________________\n",
      "activation_9 (Activation)        (None, 16, 431, 64)   0           lambda_9[0][0]                   \n",
      "____________________________________________________________________________________________________\n",
      "activation_10 (Activation)       (None, 16, 431, 64)   0           lambda_10[0][0]                  \n",
      "____________________________________________________________________________________________________\n",
      "multiply_5 (Multiply)            (None, 16, 431, 64)   0           activation_9[0][0]               \n",
      "                                                                   activation_10[0][0]              \n",
      "____________________________________________________________________________________________________\n",
      "max_pooling2d_5 (MaxPooling2D)   (None, 4, 431, 64)    0           multiply_5[0][0]                 \n",
      "____________________________________________________________________________________________________\n",
      "conv2d_6 (Conv2D)                (None, 4, 431, 128)   73728       max_pooling2d_5[0][0]            \n",
      "____________________________________________________________________________________________________\n",
      "batch_normalization_6 (BatchNorm (None, 4, 431, 128)   512         conv2d_6[0][0]                   \n",
      "____________________________________________________________________________________________________\n",
      "lambda_11 (Lambda)               (None, 4, 431, 64)    0           batch_normalization_6[0][0]      \n",
      "____________________________________________________________________________________________________\n",
      "lambda_12 (Lambda)               (None, 4, 431, 64)    0           batch_normalization_6[0][0]      \n",
      "____________________________________________________________________________________________________\n",
      "activation_11 (Activation)       (None, 4, 431, 64)    0           lambda_11[0][0]                  \n",
      "____________________________________________________________________________________________________\n",
      "activation_12 (Activation)       (None, 4, 431, 64)    0           lambda_12[0][0]                  \n",
      "____________________________________________________________________________________________________\n",
      "multiply_6 (Multiply)            (None, 4, 431, 64)    0           activation_11[0][0]              \n",
      "                                                                   activation_12[0][0]              \n",
      "____________________________________________________________________________________________________\n",
      "max_pooling2d_6 (MaxPooling2D)   (None, 1, 431, 64)    0           multiply_6[0][0]                 \n",
      "____________________________________________________________________________________________________\n",
      "reshape_2 (Reshape)              (None, 431, 64)       0           max_pooling2d_6[0][0]            \n",
      "____________________________________________________________________________________________________\n",
      "bidirectional_2 (Bidirectional)  (None, 431, 128)      49536       reshape_2[0][0]                  \n",
      "____________________________________________________________________________________________________\n",
      "time_distributed_3 (TimeDistribu (None, 431, 64)       8256        bidirectional_2[0][0]            \n",
      "____________________________________________________________________________________________________\n",
      "time_distributed_4 (TimeDistribu (None, 431, 10)       650         time_distributed_3[0][0]         \n",
      "====================================================================================================\n",
      "Total params: 208,586\n",
      "Trainable params: 207,818\n",
      "Non-trainable params: 768\n",
      "____________________________________________________________________________________________________\n"
     ]
    }
   ],
   "source": [
    "useBiasOutputLayer=True\n",
    "\n",
    "melInput = Input(dataset.getInputShape(\"mel\"))\n",
    "\n",
    "# ---- mel convolution part ----\n",
    "mBlock1 = block(melInput)\n",
    "mBlock1 = MaxPooling2D(pool_size=(4, 1))(mBlock1)\n",
    "# mBlock1 = Dropout(0.1)(mBlock1)\n",
    "# mBlock1 = SpatialDropout2D(0.3, data_format=K.image_data_format())(mBlock1)\n",
    "\n",
    "mBlock2 = block(mBlock1)\n",
    "mBlock2 = MaxPooling2D(pool_size=(4, 1))(mBlock2)\n",
    "# mBlock2 = SpatialDropout2D(0.3, data_format=K.image_data_format())(mBlock2)\n",
    "# mBlock2 = Dropout(0.1)(mBlock2)\n",
    "    \n",
    "mBlock3 = block(mBlock2)\n",
    "mBlock3 = MaxPooling2D(pool_size=(4, 1))(mBlock3)\n",
    "# mBlock3 = SpatialDropout2D(0.3, data_format=K.image_data_format())(mBlock3)\n",
    "# mBlock3 = Dropout(0.1)(mBlock3)\n",
    "    \n",
    "targetShape = int(mBlock3.shape[1] * mBlock3.shape[2])\n",
    "mReshape = Reshape(target_shape=(targetShape, 64))(mBlock3)\n",
    "\n",
    "gru = Bidirectional(\n",
    "    GRU(kernel_initializer='glorot_uniform', activation='tanh', recurrent_dropout=0.1, \\\n",
    "        dropout=0.1, units=64, return_sequences=True)\n",
    ")(mReshape)\n",
    "\n",
    "# gru = Dropout(0.1)(gru)\n",
    "\n",
    "output = TimeDistributed(\n",
    "    Dense(64, activation=\"relu\"),\n",
    ")(gru)\n",
    "\n",
    "# output = Dropout(0.1)(output)\n",
    "\n",
    "if useBiasOutputLayer:\n",
    "    output = TimeDistributed(\n",
    "        Dense(dataset.nbClass, activation=\"sigmoid\"),\n",
    "    )(output)\n",
    "else:\n",
    "    output = TimeDistributed(\n",
    "        Dense(dataset.nbClass, activation=\"sigmoid\", use_bias=False),\n",
    "    )(output)\n",
    "\n",
    "\n",
    "model = Model(inputs=[melInput], outputs=output)\n",
    "\n",
    "# compile model\n",
    "# metrics = [\"accuracy\"]\n",
    "\n",
    "# optimizer = optimizers.Adam()\n",
    "# optimizer = optimizers.SGD(lr=0.01)\n",
    "optimizer = optimizers.RMSprop()\n",
    "\n",
    "model.compile(loss=MIL_loss, optimizer=optimizer)\n",
    "model.summary(line_length=100)"
   ]
  },
  {
   "cell_type": "code",
   "execution_count": null,
   "metadata": {
    "hidden": true
   },
   "outputs": [],
   "source": [
    "# model.save('models/init_GLU_MIL_max_cos_19dec2018.h5')"
   ]
  },
  {
   "cell_type": "markdown",
   "metadata": {
    "heading_collapsed": true,
    "hidden": true
   },
   "source": [
    "### define new RCNN model w/o GLU"
   ]
  },
  {
   "cell_type": "code",
   "execution_count": null,
   "metadata": {
    "hidden": true
   },
   "outputs": [],
   "source": [
    "\n",
    "melInput = Input(dataset.getInputShape(\"mel\"))\n",
    "\n",
    "# ---- mel convolution part ----\n",
    "mBlock1 = Conv2D(filters=64, kernel_size=(3, 3), padding=\"same\")(melInput)\n",
    "mBlock1 = BatchNormalization()(mBlock1)\n",
    "mBlock1 = Activation(activation=\"relu\")(mBlock1)\n",
    "mBlock1 = MaxPooling2D(pool_size=(4, 1))(mBlock1)\n",
    "mBlock1 = Dropout(0.1)(mBlock1)\n",
    "# mBlock1 = SpatialDropout2D(0.3, data_format=K.image_data_format())(mBlock1)\n",
    "\n",
    "mBlock2 = Conv2D(filters=64, kernel_size=(3, 3), padding=\"same\")(mBlock1)\n",
    "mBlock2 = BatchNormalization()(mBlock2)\n",
    "mBlock2 = Activation(activation=\"relu\")(mBlock2)\n",
    "mBlock2 = MaxPooling2D(pool_size=(4, 1))(mBlock2)\n",
    "# mBlock2 = SpatialDropout2D(0.3, data_format=K.image_data_format())(mBlock2)\n",
    "mBlock2 = Dropout(0.1)(mBlock2)\n",
    "    \n",
    "mBlock3 = Conv2D(filters=64, kernel_size=(3, 3), padding=\"same\")(mBlock2)\n",
    "mBlock3 = BatchNormalization()(mBlock3)\n",
    "mBlock3 = Activation(activation=\"relu\")(mBlock3)\n",
    "mBlock3 = MaxPooling2D(pool_size=(4, 1))(mBlock3)\n",
    "# mBlock3 = SpatialDropout2D(0.3, data_format=K.image_data_format())(mBlock3)\n",
    "mBlock3 = Dropout(0.1)(mBlock3)\n",
    "    \n",
    "targetShape = int(mBlock3.shape[1] * mBlock3.shape[2])\n",
    "mReshape = Reshape(target_shape=(targetShape, 64))(mBlock3)\n",
    "\n",
    "gru = Bidirectional(\n",
    "    GRU(kernel_initializer='glorot_uniform', activation='tanh', recurrent_dropout=0.1, \\\n",
    "        dropout=0.1, units=64, return_sequences=True)\n",
    ")(mReshape)\n",
    "\n",
    "gru = Dropout(0.1)(gru)\n",
    "\n",
    "output = TimeDistributed(\n",
    "    Dense(64, activation=\"relu\"),\n",
    ")(gru)\n",
    "\n",
    "output = Dropout(0.1)(output)\n",
    "\n",
    "output = TimeDistributed(\n",
    "    Dense(dataset.nbClass, activation=\"sigmoid\"),\n",
    ")(output)\n",
    "\n",
    "# output = TimeDistributed(\n",
    "#  Lambda(lambda x: (x - K.min(x, axis=1, keepdims=True))/(K.max(x, axis=1, keepdims=True)- K.min(x, axis=1, keepdims=True)) ),\n",
    "# )(output)\n",
    "\n",
    "### output = GlobalAveragePooling1D()(output)\n",
    "\n",
    "model = Model(inputs=[melInput], outputs=output)\n",
    "\n",
    "# compile model\n",
    "# metrics = [\"accuracy\"]\n",
    "optimizer = optimizers.Adam()\n",
    "\n",
    "if useMMM:\n",
    "    model.compile(loss=MIL_loss, optimizer=optimizer)\n",
    "elif useMaxMin:\n",
    "    model.compile(loss=max_min_mil_loss, optimizer=optimizer)\n",
    "model.summary(line_length=100)"
   ]
  },
  {
   "cell_type": "code",
   "execution_count": null,
   "metadata": {
    "hidden": true
   },
   "outputs": [],
   "source": [
    "# model.save('thomas_models/init_MIL_max_21nov2018.h5')"
   ]
  },
  {
   "cell_type": "markdown",
   "metadata": {
    "heading_collapsed": true,
    "hidden": true
   },
   "source": [
    "### load initialized model"
   ]
  },
  {
   "cell_type": "code",
   "execution_count": null,
   "metadata": {
    "hidden": true
   },
   "outputs": [],
   "source": [
    "optimizer = optimizers.Adam()\n",
    "\n",
    "# model = load_model('thomas_models/init_MIL_max_21nov2018.h5', custom_objects={'MIL_loss': MIL_loss, 'f1': Metrics.f1, 'recall': Metrics.recall, \n",
    "#                                             'precision': Metrics.precision})\n",
    "\n",
    "if useMMM:\n",
    "    model = load_model('thomas_models/init_MIL_max_21nov2018.h5', custom_objects={'MIL_loss': MIL_loss, 'f1': Metrics.f1, 'recall': Metrics.recall, \n",
    "                                            'precision': Metrics.precision})\n",
    "    model.compile(loss=MIL_loss, optimizer=optimizer)\n",
    "\n",
    "elif useMaxMin:\n",
    "    model = load_model('thomas_models/init_MIL_max_21nov2018.h5', custom_objects={'MIL_loss': max_min_mil_loss, 'f1': Metrics.f1, 'recall': Metrics.recall, \n",
    "                                            'precision': Metrics.precision})\n",
    "\n",
    "    model.compile(loss=max_min_mil_loss, optimizer=optimizer)\n",
    "\n",
    "elif useKL:\n",
    "    model = load_model('thomas_models/init_MIL_max_21nov2018.h5', custom_objects={'MIL_loss': kl_mil_loss, 'f1': Metrics.f1, 'recall': Metrics.recall, \n",
    "                                            'precision': Metrics.precision})\n",
    "\n",
    "    model.compile(loss=kl_mil_loss, optimizer=optimizer)\n",
    "\n",
    "model.summary()"
   ]
  },
  {
   "cell_type": "code",
   "execution_count": null,
   "metadata": {
    "hidden": true
   },
   "outputs": [],
   "source": [
    "# sanity check whether we have the same init model\n",
    "l = model.get_layer(name='conv2d_1')\n",
    "w, b = l.get_weights()\n",
    "b.shape\n",
    "if w.shape != (3, 3, 1, 64) or b.shape != (64,):\n",
    "    print('not the init model')\n",
    "\n",
    "init_first_filter = np.array([[-0.02036787,  0.04966021, -0.06410739],\n",
    "       [-0.04504521,  0.06110452, -0.09970634],\n",
    "       [-0.03523723, -0.09724469,  0.0906041 ]], dtype='float32')\n",
    "\n",
    "if np.any(w[:,:,0,0] - init_first_filter > 1e-6):\n",
    "    print('not the init model')\n",
    "    print(w[:,:,0,0])"
   ]
  },
  {
   "cell_type": "code",
   "execution_count": null,
   "metadata": {
    "hidden": true
   },
   "outputs": [],
   "source": []
  },
  {
   "cell_type": "markdown",
   "metadata": {
    "hidden": true
   },
   "source": [
    "## train the model"
   ]
  },
  {
   "cell_type": "code",
   "execution_count": 30,
   "metadata": {
    "hidden": true
   },
   "outputs": [],
   "source": [
    "epochs = 10\n",
    "batch_size = 32"
   ]
  },
  {
   "cell_type": "code",
   "execution_count": 31,
   "metadata": {
    "hidden": true
   },
   "outputs": [
    {
     "name": "stdout",
     "output_type": "stream",
     "text": [
      "Train on 1763 samples, validate on 438 samples\n",
      "Epoch 1/10\n",
      "1763/1763 [==============================] - 72s - loss: 0.3962 - val_loss: 0.4199\n",
      "Epoch 2/10\n",
      "1763/1763 [==============================] - 70s - loss: 0.3134 - val_loss: 0.3514\n",
      "Epoch 3/10\n",
      "1763/1763 [==============================] - 68s - loss: 0.2816 - val_loss: 0.3531\n",
      "Epoch 4/10\n",
      "1763/1763 [==============================] - 71s - loss: 0.2597 - val_loss: 0.3510\n",
      "Epoch 5/10\n",
      "1763/1763 [==============================] - 70s - loss: 0.2445 - val_loss: 0.2874\n",
      "Epoch 6/10\n",
      "1763/1763 [==============================] - 70s - loss: 0.2312 - val_loss: 0.3594\n",
      "Epoch 7/10\n",
      "1763/1763 [==============================] - 71s - loss: 0.2142 - val_loss: 0.2349\n",
      "Epoch 8/10\n",
      "1763/1763 [==============================] - 72s - loss: 0.1941 - val_loss: 0.2171\n",
      "Epoch 9/10\n",
      "1763/1763 [==============================] - 71s - loss: 0.1888 - val_loss: 0.2188\n",
      "Epoch 10/10\n",
      "1763/1763 [==============================] - 69s - loss: 0.1852 - val_loss: 0.2093\n"
     ]
    },
    {
     "data": {
      "text/plain": [
       "[<matplotlib.lines.Line2D at 0x7f0c3c75c748>]"
      ]
     },
     "execution_count": 31,
     "metadata": {},
     "output_type": "execute_result"
    },
    {
     "data": {
      "image/png": "[encoded data removed]",
      "text/plain": [
       "<Figure size 432x288 with 1 Axes>"
      ]
     },
     "metadata": {},
     "output_type": "display_data"
    }
   ],
   "source": [
    "def lrate_schedule_fn(epoch):\n",
    "    if epoch < 6:\n",
    "        #print('lr: 1e-4')\n",
    "#         return 1e-4\n",
    "        return 1e-3\n",
    "    elif epoch < 10:\n",
    "        #print('lr: 5e-5')\n",
    "        return 1e-4\n",
    "    else:\n",
    "        # print('lr: 1e-6')\n",
    "        return 1e-6\n",
    "\n",
    "\n",
    "lrate_scheduler = keras.callbacks.LearningRateScheduler(lrate_schedule_fn)\n",
    "\n",
    "history = model.fit(\n",
    "     x=x_train,\n",
    "     y=y_train[:, np.newaxis,:],\n",
    "    # x=dataset.trainingDataset[\"mel\"][\"input\"],\n",
    "    # y=dataset.trainingDataset[\"mel\"][\"output\"][:, np.newaxis,:],\n",
    "    epochs=epochs,\n",
    "    batch_size=batch_size,\n",
    "    validation_data=(\n",
    "        x_val,\n",
    "        y_val[:, np.newaxis,:],\n",
    "        # dataset.validationDataset[\"mel\"][\"input\"],\n",
    "        # dataset.validationDataset[\"mel\"][\"output\"][:, np.newaxis,:]\n",
    "    ),\n",
    "    callbacks=[lrate_scheduler],\n",
    "    verbose=1\n",
    ")\n",
    "\n",
    "plt.plot(history.history['loss'])\n",
    "plt.plot(history.history['val_loss'])"
   ]
  },
  {
   "cell_type": "code",
   "execution_count": null,
   "metadata": {
    "hidden": true
   },
   "outputs": [],
   "source": [
    "# savedir='GLU_max_cos_0.5'\n",
    "# # savedir='baseline_GLU_MIL_max'\n",
    "# savedir_long='thomas_models_expes_losses/%s'%savedir"
   ]
  },
  {
   "cell_type": "code",
   "execution_count": null,
   "metadata": {
    "hidden": true
   },
   "outputs": [],
   "source": [
    "# plt.plot(history.history['loss'], label='train')\n",
    "# plt.plot(history.history['val_loss'], label='val')\n",
    "# plt.yticks(fontsize=12)\n",
    "# plt.xticks(fontsize=12)\n",
    "# plt.legend(fontsize=12)\n",
    "# plt.savefig('%s/model1_loss.png'%(savedir_long))"
   ]
  },
  {
   "cell_type": "code",
   "execution_count": null,
   "metadata": {
    "hidden": true
   },
   "outputs": [],
   "source": [
    "# model.save('%s/model1.h5'%(savedir_long))"
   ]
  },
  {
   "cell_type": "markdown",
   "metadata": {
    "heading_collapsed": true,
    "hidden": true
   },
   "source": [
    "## load a trained MIL model and make strong predictions"
   ]
  },
  {
   "cell_type": "markdown",
   "metadata": {
    "hidden": true
   },
   "source": [
    "### load MIL model"
   ]
  },
  {
   "cell_type": "code",
   "execution_count": null,
   "metadata": {
    "hidden": true
   },
   "outputs": [],
   "source": [
    "# model = load_model('thomas_models/epochs5_init_MIL_max_21nov2018.h5', custom_objects={'MIL_loss': MIL_loss, 'f1': Metrics.f1, 'recall': Metrics.recall, \n",
    "#                                             'precision': Metrics.precision})\n",
    "\n",
    "# model.summary()"
   ]
  },
  {
   "cell_type": "code",
   "execution_count": null,
   "metadata": {
    "hidden": true
   },
   "outputs": [],
   "source": [
    "# plot_model(model, show_shapes=True, to_file='model_mil.png')"
   ]
  },
  {
   "cell_type": "code",
   "execution_count": null,
   "metadata": {
    "hidden": true
   },
   "outputs": [],
   "source": [
    "# savedir='five_models_max_cos_0.1/9'\n",
    "# savedir_long='thomas_GLU_models_alpha/%s'%savedir"
   ]
  },
  {
   "cell_type": "markdown",
   "metadata": {
    "heading_collapsed": true,
    "hidden": true
   },
   "source": [
    "### make strong predictions"
   ]
  },
  {
   "cell_type": "code",
   "execution_count": 32,
   "metadata": {
    "hidden": true
   },
   "outputs": [
    {
     "name": "stdout",
     "output_type": "stream",
     "text": [
      "on the test subset\n"
     ]
    },
    {
     "data": {
      "text/plain": [
       "((279, 431, 10), 'Y-6-rh8kbZf0_40.000_50.000.wav.npy')"
      ]
     },
     "execution_count": 32,
     "metadata": {},
     "output_type": "execute_result"
    },
    {
     "data": {
      "image/png": "[encoded data removed]",
      "text/plain": [
       "<Figure size 432x288 with 1 Axes>"
      ]
     },
     "metadata": {},
     "output_type": "display_data"
    }
   ],
   "source": [
    "print('on the test subset')\n",
    "\n",
    "# _, all_test_strong_probs = model.predict(featTest)\n",
    "\n",
    "all_test_strong_probs = model.predict(featTest)\n",
    "plt.plot(all_test_strong_probs[1])\n",
    "all_test_strong_probs.shape, featTestList[1]"
   ]
  },
  {
   "cell_type": "markdown",
   "metadata": {
    "heading_collapsed": true,
    "hidden": true
   },
   "source": [
    "## load coarse-level predictions"
   ]
  },
  {
   "cell_type": "code",
   "execution_count": 34,
   "metadata": {
    "hidden": true
   },
   "outputs": [],
   "source": [
    "# useGT=True\n",
    "\n",
    "# if useGT:\n",
    "#     all_test_preds = \n",
    "dico_coarse_predictions = load_obj(\"test_predictions/test_coarse_predictions.pkl\")\n",
    "\n",
    "# featTestList = dico_coarse_predictions['featTestList']\n",
    "all_test_probs = dico_coarse_predictions['all_test_probs']\n",
    "all_test_preds = dico_coarse_predictions['all_test_preds']\n",
    "len(featTestList), all_test_probs.shape, all_test_preds.shape"
   ]
  },
  {
   "cell_type": "code",
   "execution_count": null,
   "metadata": {
    "hidden": true
   },
   "outputs": [],
   "source": [
    "from sklearn.metrics import accuracy_score, hamming_loss, f1_score, precision_score, recall_score\n",
    "\n",
    "# In multilabel classification, this function computes subset accuracy: \n",
    "# the set of labels predicted for a sample must exactly match the corresponding \n",
    "# set of labels in y_true.\n",
    "\n",
    "# Hamming loss is more forgiving in that it penalizes the individual labels.\n",
    "\n",
    "print('%.2f%% %.2f%%'%(accuracy_score(y_test, all_test_preds)*100, hamming_loss(y_test, all_test_preds)*100))\n",
    "\n",
    "print('%.2f%% %.2f%%'%(f1_score(y_test, all_test_preds, average='micro')*100, f1_score(y_test, all_test_preds, average='macro')*100))"
   ]
  },
  {
   "cell_type": "code",
   "execution_count": null,
   "metadata": {
    "hidden": true
   },
   "outputs": [],
   "source": [
    "all_test_preds[:5], y_test[:5]"
   ]
  },
  {
   "cell_type": "code",
   "execution_count": null,
   "metadata": {
    "hidden": true
   },
   "outputs": [],
   "source": [
    "f1_score(y_test, all_test_preds, average=None)*100"
   ]
  },
  {
   "cell_type": "code",
   "execution_count": null,
   "metadata": {
    "hidden": true
   },
   "outputs": [],
   "source": [
    "precision_score(y_test, all_test_preds, average=None)  "
   ]
  },
  {
   "cell_type": "code",
   "execution_count": null,
   "metadata": {
    "hidden": true
   },
   "outputs": [],
   "source": [
    "recall_score(y_test, all_test_preds, average=None)  "
   ]
  },
  {
   "cell_type": "code",
   "execution_count": null,
   "metadata": {
    "hidden": true
   },
   "outputs": [],
   "source": [
    "dataset.class_correspondance"
   ]
  },
  {
   "cell_type": "markdown",
   "metadata": {
    "hidden": true
   },
   "source": [
    "## get predictions for the predicted classes"
   ]
  },
  {
   "cell_type": "code",
   "execution_count": null,
   "metadata": {
    "hidden": true
   },
   "outputs": [],
   "source": [
    "print('on the test subset')\n",
    "dico_prob_curves_for_predicted_classes = get_prob_curves_for_predicted_classes(all_test_preds, \n",
    "                                                                           all_test_strong_probs, \n",
    "                                                                           featTestList, \n",
    "                                                                           DCASE2018.class_correspondance_reverse)"
   ]
  },
  {
   "cell_type": "code",
   "execution_count": 35,
   "metadata": {
    "hidden": true
   },
   "outputs": [
    {
     "name": "stdout",
     "output_type": "stream",
     "text": [
      "on the test subset with GT weak labels !!\n"
     ]
    }
   ],
   "source": [
    "print('AT oracle: on the test subset with GT weak labels !!')\n",
    "dico_prob_curves_for_predicted_classes = get_prob_curves_for_predicted_classes(y_test, \n",
    "                                                                           all_test_strong_probs, \n",
    "                                                                           featTestList, \n",
    "                                                                           DCASE2018.class_correspondance_reverse)"
   ]
  },
  {
   "cell_type": "code",
   "execution_count": null,
   "metadata": {
    "hidden": true
   },
   "outputs": [],
   "source": [
    "# ### save numpy strong probs array\n",
    "# np.savez_compressed(\"%s/all_test_strong_probs.npz\"%savedir_long, all_test_strong_probs=all_test_strong_probs)\n",
    "# ### save prob curves\n",
    "# import pickle as pkl\n",
    "# pickle.dump( dico_prob_curves_for_predicted_classes, open( \"%s/dico_prob_curves_for_predicted_classes.pkl\"%savedir_long, \"wb\" ) )"
   ]
  },
  {
   "cell_type": "code",
   "execution_count": null,
   "metadata": {
    "hidden": true
   },
   "outputs": [],
   "source": [
    "# print('on the eval subset')\n",
    "# dico_prob_curves_for_predicted_classes = get_prob_curves_for_predicted_classes(all_eval_preds, \n",
    "#                                                                            all_eval_strong_probs, \n",
    "#                                                                            featEvalList, \n",
    "#                                                                            DCASE2018.class_correspondance_reverse)\n"
   ]
  },
  {
   "cell_type": "markdown",
   "metadata": {
    "heading_collapsed": true
   },
   "source": [
    "# Score"
   ]
  },
  {
   "cell_type": "code",
   "execution_count": 38,
   "metadata": {
    "hidden": true
   },
   "outputs": [],
   "source": [
    "def smoothMeanAvg(temporalPrediction: np.array, **kwargs):\n",
    "    \n",
    "    print(\"Smooting using the smooth moving average algorithm\")\n",
    "    \n",
    "    def smooth(data, window_len = 11):\n",
    "        # retreiving extract arguments\n",
    "        keys = kwargs.keys()\n",
    "        window_len = kwargs[\"window_len\"] if \"window_len\" in keys else 11\n",
    "        weight = kwargs[\"weight\"] if \"weight\" in keys else 2\n",
    "\n",
    "        window_len = int(window_len)\n",
    "\n",
    "        if window_len < 3:\n",
    "            return data\n",
    "\n",
    "        s = np.r_[weight * data[0] - data[window_len - 1::-1], data, weight * data[-1] - data[-1:-window_len:-1]]\n",
    "        w = np.ones(window_len, 'd')\n",
    "        y = np.convolve(w / w.sum(), s, mode='same')\n",
    "        return y[window_len:-window_len + 1]\n",
    "\n",
    "    outputs = []\n",
    "    for clipInd in range(len(temporalPrediction)):\n",
    "        clip = temporalPrediction[clipInd]\n",
    "        curves = []\n",
    "        for clsInd in range(len(clip.T)):\n",
    "            #clip.T[clsInd] = smooth(clip.T[clsInd])\n",
    "            curves.append(smooth(clip.T[clsInd]))\n",
    "        curves = np.array(curves)\n",
    "        outputs.append(curves.T)\n",
    "    outputs = np.array(outputs)\n",
    "    return outputs"
   ]
  },
  {
   "cell_type": "code",
   "execution_count": 39,
   "metadata": {
    "hidden": true
   },
   "outputs": [
    {
     "name": "stdout",
     "output_type": "stream",
     "text": [
      "['Y0UN02RkbG_U_7.000_17.000.wav.npy', 'Y-6-rh8kbZf0_40.000_50.000.wav.npy', 'Y6ocUrRBIuls_340.000_350.000.wav.npy', 'Y7wPIQMsalK8_70.000_80.000.wav.npy', 'Y-dDpGRPHzM0_30.000_40.000.wav.npy']\n",
      "['Y4WLQloq6iLs_190.000_200.000', 'Y0plDocPM9Ig_80.000_90.000', 'Y1asrcrzsvuo_160.000_170.000', 'Y1tFkjBMoUkM_90.000_100.000', 'Y8fDeRi8Lqyg_40.000_50.000']\n"
     ]
    },
    {
     "data": {
      "text/plain": [
       "(279, 431, 10)"
      ]
     },
     "execution_count": 39,
     "metadata": {},
     "output_type": "execute_result"
    }
   ],
   "source": [
    "# print(testListFile[:5])\n",
    "print(featTestList[:5])\n",
    "print(list(dico_prob_curves_for_predicted_classes.keys())[:5])\n",
    "nbFrame = 431\n",
    "\n",
    "# rearange list of results\n",
    "results = []\n",
    "for f in featTestList:\n",
    "# for f in testListFile:\n",
    "    f = f.replace('.wav.npy', '')\n",
    "    info = dico_prob_curves_for_predicted_classes[f]\n",
    "    \n",
    "    curves = np.array([[0]*dataset.nbClass for _ in range(nbFrame)], dtype=np.float32)\n",
    "    \n",
    "    for cls in info:\n",
    "        index = DCASE2018.class_correspondance[cls]\n",
    "        curves[:,index] = info[cls]\n",
    "        \n",
    "    results.append(curves)\n",
    "\n",
    "results = np.array(results)\n",
    "results.shape"
   ]
  },
  {
   "cell_type": "code",
   "execution_count": 42,
   "metadata": {
    "hidden": true
   },
   "outputs": [
    {
     "name": "stdout",
     "output_type": "stream",
     "text": [
      "Smooting using the smooth moving average algorithm\n",
      "Smooting using the smooth moving average algorithm\n",
      "perform evaluation ...\n",
      "Event based metrics (onset-offset)\n",
      "========================================\n",
      "  Evaluated length                  : 2616.88 sec\n",
      "  Evaluated files                   : 288 \n",
      "  Evaluate onset                    : True \n",
      "  Evaluate offset                   : True \n",
      "  T collar                          : 200.00 ms\n",
      "  Offset (length)                   : 20.00 %\n",
      "\n",
      "  Overall metrics (micro-average)\n",
      "  ======================================\n",
      "  F-measure\n",
      "    F-measure (F1)                  : 34.85 %\n",
      "    Precision                       : 33.13 %\n",
      "    Recall                          : 36.75 %\n",
      "  Error rate\n",
      "    Error rate (ER)                 : 1.36 \n",
      "    Substitution rate               : 0.01 \n",
      "    Deletion rate                   : 0.62 \n",
      "    Insertion rate                  : 0.73 \n",
      "\n",
      "  Class-wise average metrics (macro-average)\n",
      "  ======================================\n",
      "  F-measure\n",
      "    F-measure (F1)                  : 35.00 %\n",
      "    Precision                       : 31.92 %\n",
      "    Recall                          : 41.77 %\n",
      "  Error rate\n",
      "    Error rate (ER)                 : 1.52 \n",
      "    Deletion rate                   : 0.58 \n",
      "    Insertion rate                  : 0.94 \n",
      "  \n",
      "\n",
      "  Class-wise metrics\n",
      "  ======================================\n",
      "    Event label  | Nref    Nsys  | F        Pre      Rec    | ER       Del      Ins    |\n",
      "    ------------ | -----   ----- | ------   ------   ------ | ------   ------   ------ |\n",
      "    Alarm_bell.. | 112     80    | 39.6%    47.5%    33.9%  | 1.04     0.66     0.38   |\n",
      "    Blender      | 40      53    | 58.1%    50.9%    67.5%  | 0.98     0.33     0.65   |\n",
      "    Cat          | 82      99    | 45.3%    41.4%    50.0%  | 1.21     0.50     0.71   |\n",
      "    Dishes       | 122     72    | 0.0%     0.0%     0.0%   | 1.59     1.00     0.59   |\n",
      "    Dog          | 126     95    | 30.8%    35.8%    27.0%  | 1.21     0.73     0.48   |\n",
      "    Electric_s.. | 28      68    | 20.8%    14.7%    35.7%  | 2.71     0.64     2.07   |\n",
      "    Frying       | 24      59    | 31.3%    22.0%    54.2%  | 2.38     0.46     1.92   |\n",
      "    Running_wa.. | 76      96    | 30.2%    27.1%    34.2%  | 1.58     0.66     0.92   |\n",
      "    Speech       | 260     325   | 40.7%    36.6%    45.8%  | 1.33     0.54     0.79   |\n",
      "    Vacuum_cle.. | 36      58    | 53.2%    43.1%    69.4%  | 1.22     0.31     0.92   |\n",
      "\n",
      "\n"
     ]
    }
   ],
   "source": [
    "encoder = Encoder()\n",
    "\n",
    "temporalPrediction = smoothMeanAvg(results, window_len=19)\n",
    "\n",
    "segments = encoder.encode(results, method=\"hysteresis\", high=0.03, low=0.03, smooth=\"smoothMovingAvg\", window_len=19)  # 21.50 %\n",
    "# segments = encoder.encode(results, method=\"hysteresis\", high=0.07, low=0.07, smooth=\"smoothMovingAvg\", window_len=19)  # 21.50 %\n",
    "# segments = encoder.encode(results, method=\"hysteresis\", high=0.05, low=0.2, smooth=\"smoothMovingAvg\", window_len=19)  # 21.50 %\n",
    "# segments = encoder.encode(results, method=\"hysteresis\", high=0.07, low=0.2, smooth=\"smoothMovingAvg\", window_len=19)  # 21.50 %\n",
    "\n",
    "toEvaluate = encoder.parse(segments, dataset.testFileList)\n",
    "\n",
    "print(\"perform evaluation ...\")             \n",
    "with open(\"test_predictions/toEvaluate.csv\", \"w\") as f:                    \n",
    "    f.write(\"filename\\tonset\\toffset\\tevent_label\\n\") \n",
    "    f.write(toEvaluate)   \n",
    "\n",
    "perso_event_list = MetaDataContainer() \n",
    "perso_event_list.load(filename=\"test_predictions/toEvaluate.csv\")\n",
    "\n",
    "ref_event_list = MetaDataContainer()   \n",
    "ref_event_list.load(filename=dataset.meta_test)\n",
    "\n",
    "event_based_metric = event_based_evaluation(ref_event_list, perso_event_list)\n",
    "print(event_based_metric)\n"
   ]
  },
  {
   "cell_type": "code",
   "execution_count": null,
   "metadata": {
    "hidden": true
   },
   "outputs": [],
   "source": [
    "event_list = ['Frying', 'Speech', 'Alarm_bell_ringing', 'Vacuum_cleaner', 'Dog', 'Dishes', 'Running_water', 'Electric_shaver_toothbrush', 'Cat', 'Blender']\n",
    "\n",
    "for e in event_list:\n",
    "    print(e, event_based_metric.results_class_wise_metrics()[e]['f_measure'])"
   ]
  },
  {
   "cell_type": "code",
   "execution_count": null,
   "metadata": {
    "hidden": true
   },
   "outputs": [],
   "source": [
    "dataset.testFileList[4], segments[4]"
   ]
  },
  {
   "cell_type": "code",
   "execution_count": null,
   "metadata": {
    "hidden": true
   },
   "outputs": [],
   "source": [
    "dataset.testFileList[49], segments[49]"
   ]
  },
  {
   "cell_type": "code",
   "execution_count": null,
   "metadata": {
    "hidden": true
   },
   "outputs": [],
   "source": [
    "temporalPrediction.shape"
   ]
  },
  {
   "cell_type": "code",
   "execution_count": null,
   "metadata": {
    "hidden": true
   },
   "outputs": [],
   "source": [
    "np.linspace(0, 10, num=10)"
   ]
  },
  {
   "cell_type": "code",
   "execution_count": null,
   "metadata": {
    "hidden": true
   },
   "outputs": [],
   "source": [
    "def encodeUsingHysteresis(temporalPrediction: np.array, **kwargs):\n",
    "    \"\"\" Hysteresys based localization of the sound event in the clip using the temporal prediction.\n",
    "\n",
    "    :param temporalPrediction: A 3-dimension numpy array (<nb clip>, <nb frame>, <nb class>)\n",
    "    :param low: low thresholds\n",
    "    :param high: high thresholds\n",
    "    :return: the result of the system under the form of a strong annotation text where each line represent on timed event\n",
    "    \"\"\"\n",
    "    low = kwargs[\"low\"] if \"low\" in kwargs.keys() else 0.4\n",
    "    high = kwargs[\"high\"] if \"high\" in kwargs.keys() else 0.6\n",
    "    prediction = temporalPrediction\n",
    "\n",
    "    output = []\n",
    "\n",
    "    for clip in prediction:\n",
    "        labeled = dict()\n",
    "\n",
    "        cls = 0\n",
    "        for predictionPerClass in clip.T:\n",
    "            converted = list()\n",
    "            segment = [0, 0]\n",
    "            nbSegment = 1\n",
    "            for i in range(len(predictionPerClass)):\n",
    "                element = predictionPerClass[i]\n",
    "\n",
    "                # first element\n",
    "                if i == 0:\n",
    "                    segment = [1.0, 1] if element > high else [0.0, 1]\n",
    "\n",
    "                # then\n",
    "                if element > high:\n",
    "                    if segment[0] == 1:\n",
    "                        segment[1] += 1\n",
    "                    else:\n",
    "                        converted.append(segment)\n",
    "                        nbSegment += 1\n",
    "                        segment = [1.0, 1]\n",
    "                elif low <= element:\n",
    "                    segment[1] += 1\n",
    "                else:\n",
    "                    if segment[0] == 0:\n",
    "                        segment[1] += 1\n",
    "                    else:\n",
    "                        converted.append(segment)\n",
    "                        nbSegment += 1\n",
    "                        segment = [0.0, 0]\n",
    "                \n",
    "#             if nbSegment == 1:\n",
    "            converted.append(segment)\n",
    "\n",
    "            labeled[cls] = copy.copy(converted)\n",
    "            cls += 1\n",
    "\n",
    "        output.append(labeled)\n",
    "\n",
    "    return output\n"
   ]
  },
  {
   "cell_type": "code",
   "execution_count": null,
   "metadata": {
    "hidden": true
   },
   "outputs": [],
   "source": [
    "segments2 = encodeUsingHysteresis(temporalPrediction, low=0.05, high=0.2)"
   ]
  },
  {
   "cell_type": "code",
   "execution_count": null,
   "metadata": {
    "hidden": true
   },
   "outputs": [],
   "source": [
    "segments2[49]"
   ]
  },
  {
   "cell_type": "code",
   "execution_count": null,
   "metadata": {
    "hidden": true
   },
   "outputs": [],
   "source": [
    "toEvaluate = encoder.parse(segments2, dataset.testFileList)\n",
    "\n",
    "print(\"perform evaluation ...\")             \n",
    "with open(\"test_predictions/toEvaluate.csv\", \"w\") as f:                    \n",
    "    f.write(\"filename\\tonset\\toffset\\tevent_label\\n\") \n",
    "    f.write(toEvaluate)   \n",
    "\n",
    "perso_event_list = MetaDataContainer() \n",
    "perso_event_list.load(filename=\"test_predictions/toEvaluate.csv\")\n",
    "\n",
    "ref_event_list = MetaDataContainer()   \n",
    "ref_event_list.load(filename=dataset.meta_test)\n",
    "\n",
    "event_based_metric = event_based_evaluation(ref_event_list, perso_event_list)\n",
    "print(event_based_metric)\n"
   ]
  },
  {
   "cell_type": "code",
   "execution_count": null,
   "metadata": {
    "hidden": true
   },
   "outputs": [],
   "source": [
    "dummy_vec = np.random.rand(1,64)\n",
    "dummy_score = np.dot(dummy_vec, w[0]) + w[1] \n",
    "dummy_score[0,5]-dummy_score[0,6]\n"
   ]
  },
  {
   "cell_type": "markdown",
   "metadata": {
    "heading_collapsed": true
   },
   "source": [
    "# Score plot examples"
   ]
  },
  {
   "cell_type": "code",
   "execution_count": 36,
   "metadata": {
    "hidden": true
   },
   "outputs": [
    {
     "name": "stdout",
     "output_type": "stream",
     "text": [
      "Y-dDpGRPHzM0_30.000_40.000 (1, 431, 10) (431,) [0.00559192 0.24131942 0.02227061 0.00277229 0.00129201 0.00951379\n",
      " 0.00200179 0.00572958 0.00137073 0.0030799 ]\n"
     ]
    }
   ],
   "source": [
    "indice = 4\n",
    "nplots = 2\n",
    "\n",
    "# indice = 7\n",
    "# indice = 23\n",
    "# indice = 49\n",
    "# nplots = 3\n",
    "\n",
    "featTestList.index('Y5J603SAj7QM_210.000_220.000.wav.npy')\n",
    "\n",
    "# indice = featTestList.index('Y-dDpGRPHzM0_30.000_40.000.wav.npy')\n",
    "\n",
    "# _, prob = model.predict(featTest[indice][np.newaxis])\n",
    "prob = model.predict(featTest[indice][np.newaxis])\n",
    "\n",
    "# prob = dico_prob_curves_for_predicted_classes['Y-dDpGRPHzM0_30.000_40.000']\n",
    "fichier_id=featTestList[indice].replace('.wav.npy', '')\n",
    "print(fichier_id, prob.shape, prob[0,:,1].shape, np.mean(prob[0], axis=0))"
   ]
  },
  {
   "cell_type": "code",
   "execution_count": 37,
   "metadata": {
    "hidden": true
   },
   "outputs": [
    {
     "name": "stdout",
     "output_type": "stream",
     "text": [
      "Speech 0.9834706\n",
      "1.0\n",
      "Dog 0.88987577\n",
      "1.0\n"
     ]
    },
    {
     "name": "stderr",
     "output_type": "stream",
     "text": [
      "/home/thomas/.local/lib/python3.5/site-packages/matplotlib/figure.py:98: MatplotlibDeprecationWarning: \n",
      "Adding an axes using the same arguments as a previous axes currently reuses the earlier instance.  In a future version, a new instance will always be created and returned.  Meanwhile, this warning can be suppressed, and the future behavior ensured, by passing a unique label to each axes instance.\n",
      "  \"Adding an axes using the same arguments as a previous axes \"\n"
     ]
    },
    {
     "data": {
      "image/png": "[encoded data removed]",
      "text/plain": [
       "<Figure size 1080x504 with 2 Axes>"
      ]
     },
     "metadata": {},
     "output_type": "display_data"
    }
   ],
   "source": [
    "smoothed=False\n",
    "\n",
    "# temporalPrediction = smoothMeanAvg(results, window_len=19)\n",
    "\n",
    "time_vector = np.linspace(0, 10, prob.shape[1])\n",
    "\n",
    "fig, axs = plt.subplots(1,1,figsize=(15,7))\n",
    "\n",
    "### axs.imshow(featTest[indice][:,:,0] , cmap='gray', interpolation='none', alpha=0.3)\n",
    "axs.imshow(featTest[indice][:,:,0], origin='lower', interpolation='none', aspect='auto', alpha=0.7)\n",
    "\n",
    "# enlever les ticks\n",
    "\n",
    "plt.tick_params(\n",
    "    axis='both',          # changes apply to the x-axis\n",
    "    which='both',      # both major and minor ticks are affected\n",
    "    bottom=False,      # ticks along the bottom edge are off\n",
    "    top=False,         # ticks along the top edge are off\n",
    "    left=False,      # ticks along the bottom edge are off\n",
    "    right=False,         # ticks along the top edge are off\n",
    "    labelbottom=False,\n",
    "    labelleft=False) # labels along the bottom edge are off\n",
    "\n",
    "\n",
    "# # indice = 4\n",
    "dico={0: 1, 1: 2}\n",
    "dico_c={0: 'b', 1: 'r'}\n",
    "dico_l={0: 'Speech', 1: 'Dog'}\n",
    "\n",
    "# # indice = 15\n",
    "# dico={0: 0, 1: 1}\n",
    "# dico_c={0: 'b', 1: 'r'}\n",
    "# dico_l={0: 'Alarm', 1: 'Speech'}\n",
    "\n",
    "# classes = ['Speech', 'Dishes', 'Frying']\n",
    "# dico={}\n",
    "# dico_c={0: 'b', 1: 'r', 2: 'y'}\n",
    "# dico_l={}\n",
    "# for i,c in enumerate(classes):\n",
    "#     n = DCASE2018.class_correspondance[c]\n",
    "#     dico[i] = n\n",
    "#     dico_l[i] = c\n",
    "\n",
    "# dico={0: 3}\n",
    "# dico_c={0: 'b'}\n",
    "# dico_l={0: 'Cat'}\n",
    "\n",
    "fig.canvas.draw()\n",
    "\n",
    "box = axs._position.bounds\n",
    "height = box[3] / nplots\n",
    "\n",
    "for i in range(nplots):\n",
    "\n",
    "    tmpax = fig.add_axes([box[0], box[1], box[2], box[3]])\n",
    "    tmpax.set_axis_off()\n",
    "    \n",
    "    \n",
    "    if smoothed:\n",
    "        proba= temporalPrediction[indice,:,dico[i]]\n",
    "    else:\n",
    "        proba = prob[0,:,dico[i]]\n",
    "\n",
    "    print(dico_l[i], np.max(proba))\n",
    "###     proba = dico_toto['Y-dDpGRPHzM0_30.000_40.000'][i]\n",
    "    proba = (proba - np.min(proba)) / (np.max(proba) - np.min(proba))\n",
    "    print(np.max(proba))\n",
    "    \n",
    "#     concat = np.concatenate((time_vector[:,np.newaxis], proba[:,np.newaxis]), axis=-1)\n",
    "#     np.savetxt('/home/thomas/research/demos/demo_dcase2018/{}_Y5J603SAj7QM_210.000_220.000.txt'.format(dico_l[i]), concat, fmt='%.3f')\n",
    "    \n",
    "    tmpax.plot(proba, dico_c[i], label=dico_l[i])\n",
    "    tmpax.set_ylim(0, np.max(proba))\n",
    "    tmpax.set_xlim(0, 431)\n",
    "    plt.legend(loc=2, fontsize=14)\n",
    "\n",
    "# if smoothed:\n",
    "#     plt.savefig('%s/%s_smoothed.png'%(savedir_long, fichier_id))\n",
    "#     np.savez('%s/%s_probs_smoothed.npz'%(savedir_long, fichier_id), prob=temporalPrediction[indice])    \n",
    "# else:\n",
    "#     plt.savefig('%s/%s.png'%(savedir_long, fichier_id))\n",
    "#     np.savez('%s/%s_probs.npz'%(savedir_long, fichier_id), prob=prob[0,:,:])\n",
    "    \n"
   ]
  },
  {
   "cell_type": "code",
   "execution_count": 43,
   "metadata": {
    "hidden": true,
    "scrolled": true
   },
   "outputs": [
    {
     "name": "stdout",
     "output_type": "stream",
     "text": [
      "Speech 0.5556795\n",
      "1.0\n",
      "Dishes 0.5220107\n",
      "1.0\n",
      "Frying 0.7970455\n",
      "1.0\n",
      "corr(dishes, frying) = 98.552%\n",
      "corr(dishes, speech) = -19.978%\n",
      "corr(speech, frying) = -19.972%\n"
     ]
    },
    {
     "data": {
      "image/png": "[encoded data removed]",
      "text/plain": [
       "<Figure size 1080x504 with 1 Axes>"
      ]
     },
     "metadata": {},
     "output_type": "display_data"
    }
   ],
   "source": [
    "from matplotlib.patches import Rectangle\n",
    "\n",
    "indice = 49\n",
    "fichier_id=featTestList[indice].replace('.wav.npy', '')\n",
    "\n",
    "smoothed=False\n",
    "withLegend=True\n",
    "\n",
    "if smoothed:\n",
    "    prob= temporalPrediction[indice]\n",
    "else:\n",
    "    prob = model.predict(featTest[indice][np.newaxis])\n",
    "\n",
    "\n",
    "xticks_labels = 0.5*np.array(range(0, 21, 2))\n",
    "xticks_ind = xticks_labels * 431 / 10\n",
    "xticks_labels = xticks_labels.tolist()\n",
    "xticks_ind = xticks_ind.tolist()\n",
    "\n",
    "fig, axs = plt.subplots(1,1,figsize=(15,7))\n",
    "\n",
    "### axs.imshow(featTest[indice][:,:,0] , cmap='gray', interpolation='none', alpha=0.3)\n",
    "# axs.imshow(featTest[indice][:,:,0], origin='lower', interpolation='none', aspect='auto', alpha=0.5)\n",
    "\n",
    "# enlever les ticks\n",
    "\n",
    "# plt.tick_params(\n",
    "#     axis='both',          # changes apply to the x-axis\n",
    "#     which='both',      # both major and minor ticks are affected\n",
    "#     bottom=False,      # ticks along the bottom edge are off\n",
    "#     top=False,         # ticks along the top edge are off\n",
    "#     left=False,      # ticks along the bottom edge are off\n",
    "#     right=False,         # ticks along the top edge are off\n",
    "#     labelbottom=False,\n",
    "#     labelleft=False) # labels along the bottom edge are off\n",
    "\n",
    "\n",
    "# # indice = 4\n",
    "# nplots = 2\n",
    "# dico={0: 1, 1: 2}\n",
    "# dico_c={0: 'b', 1: 'r'}\n",
    "# dico_l={0: 'Speech', 1: 'Dog'}\n",
    "\n",
    "# # # indice = 7\n",
    "# nplots = 2\n",
    "# dico={0: 0, 1: 1}\n",
    "# dico_c={0: 'b', 1: 'r'}\n",
    "# dico_l={0: 'Alarm', 1: 'Speech'}\n",
    "\n",
    "# indice = 15\n",
    "nplots = 3\n",
    "classes = ['Speech', 'Dishes', 'Frying']\n",
    "\n",
    "dico_gt = {'Speech': [[391, 431]], 'Dishes': [[14, 25], [36, 47], [80, 95], [129, 140], [154, 165], [193, 257]], 'Frying': [[0, 431]]}\n",
    "\n",
    "dico={}\n",
    "dico_c={0: 'b:', 1: 'r--', 2: 'g'}\n",
    "dico_c2={0: 'b', 1: 'r', 2: 'g'}\n",
    "dico_l={}\n",
    "for i,c in enumerate(classes):\n",
    "    n = DCASE2018.class_correspondance[c]\n",
    "    dico[i] = n\n",
    "    dico_l[i] = c\n",
    "dico_probas = {}\n",
    "\n",
    "# dico={0: 3}\n",
    "# dico_c={0: 'b'}\n",
    "# dico_l={0: 'Cat'}\n",
    "\n",
    "fig.canvas.draw()\n",
    "\n",
    "box = axs._position.bounds\n",
    "height = box[3] / nplots\n",
    "\n",
    "for i in range(nplots):\n",
    "\n",
    "    if smoothed:\n",
    "        proba= temporalPrediction[indice,:,dico[i]]\n",
    "    else:\n",
    "        proba = prob[0,:,dico[i]]\n",
    "    \n",
    "    dico_probas[classes[i]] = proba\n",
    "    \n",
    "    print(dico_l[i], np.max(proba))\n",
    "###     proba = dico_toto['Y-dDpGRPHzM0_30.000_40.000'][i]\n",
    "#     proba = (proba - np.min(proba[10:])) / (np.max(proba[10:]) - np.min(proba[10:]))\n",
    "    proba = (proba - np.min(proba)) / (np.max(proba) - np.min(proba))\n",
    "    print(np.max(proba))\n",
    "    \n",
    "    plt.plot(proba, dico_c[i], label=dico_l[i])\n",
    "    plt.ylim(0, np.max(proba))\n",
    "    plt.xlim(0, 431)\n",
    "    \n",
    "    if classes[i] in dico_gt:\n",
    "        for el in dico_gt[classes[i]]:\n",
    "            rect = Rectangle((el[0],0), width=(el[1]-el[0]), height=1.072414, alpha=0.08, color=dico_c2[i])\n",
    "            axs.add_patch(rect)\n",
    "    \n",
    "###     plt.legend(loc='best', fontsize=14)\n",
    "if withLegend:\n",
    "    plt.legend(loc='upper center', fontsize=14, bbox_to_anchor=(1.05, 1),  shadow=True, ncol=1)\n",
    "\n",
    "plt.xticks(xticks_ind, xticks_labels, fontsize=14)\n",
    "plt.yticks(fontsize=14)\n",
    "\n",
    "# bbox_to_anchor=(0.5, -0.05)\n",
    "# print(dico_probas['Dishes'].shape, np.corrcoef(dico_probas['Dishes'], dico_probas['Frying']))\n",
    "print('corr(dishes, frying) = %.3f%%'% (100*np.corrcoef(dico_probas['Dishes'], dico_probas['Frying'])[0,1]))\n",
    "print('corr(dishes, speech) = %.3f%%'% (100*np.corrcoef(dico_probas['Dishes'], dico_probas['Speech'])[0,1]))\n",
    "print('corr(speech, frying) = %.3f%%'% (100*np.corrcoef(dico_probas['Speech'], dico_probas['Frying'])[0,1]))\n",
    "\n",
    "# if smoothed:\n",
    "#     if withLegend:\n",
    "#         plt.savefig('%s/%s_smoothed_no_spectro_with_legend.png'%(savedir_long, fichier_id))\n",
    "#     else:\n",
    "#         plt.savefig('%s/%s_smoothed_no_spectro.png'%(savedir_long, fichier_id))\n",
    "#     np.savez('%s/%s_probs_smoothed.npz'%(savedir_long, fichier_id), prob=temporalPrediction[indice])    \n",
    "# else:\n",
    "#     if withLegend:\n",
    "#         plt.savefig('%s/%s_no_spectro_with_legend.png'%(savedir_long, fichier_id))\n",
    "#     else:\n",
    "#         plt.savefig('%s/%s_no_spectro.png'%(savedir_long, fichier_id))\n",
    "#     np.savez('%s/%s_probs.npz'%(savedir_long, fichier_id), prob=prob[0,:,:])\n",
    "    \n"
   ]
  },
  {
   "cell_type": "markdown",
   "metadata": {
    "heading_collapsed": true,
    "hidden": true
   },
   "source": [
    "## covariance"
   ]
  },
  {
   "cell_type": "code",
   "execution_count": null,
   "metadata": {
    "hidden": true
   },
   "outputs": [],
   "source": [
    "def rescale_3d_array(array_3d):\n",
    "    \"\"\"rescale between 0 and 1 a 1d-array\"\"\"\n",
    "    return (array_3d - np.min(array_3d[:,3:-3,:], axis=1, keepdims=True)) / (np.max(array_3d[:,3:-3,:], axis=1, keepdims=True) - np.min(array_3d[:,3:-3,:], axis=1, keepdims=True))\n"
   ]
  },
  {
   "cell_type": "code",
   "execution_count": null,
   "metadata": {
    "hidden": true
   },
   "outputs": [],
   "source": [
    "def compute_global_off_diagonal_corr_value(corr_mat):\n",
    "    tmp = np.copy(corr_mat)\n",
    "    tmp[range(10), range(10)] = 0\n",
    "    tmp[tmp<0] = 0 # don't count negative correlations\n",
    "    nb_pairs_to_consider = sum(range(1,10))\n",
    "#     tmp=np.abs(tmp) # count all correlations as positive...\n",
    "#     nb_pairs_to_consider = sum(range(1,11))\n",
    "    return 0.5*np.sum(tmp)/nb_pairs_to_consider\n"
   ]
  },
  {
   "cell_type": "code",
   "execution_count": null,
   "metadata": {
    "hidden": true
   },
   "outputs": [],
   "source": [
    "means_over_time = np.mean(all_test_strong_probs, axis=1)\n",
    "\n",
    "# cov = np.cov(means_over_time.T)\n",
    "corr = np.corrcoef(means_over_time.T)\n",
    "\n",
    "all_test_strong_probs.shape, means_over_time.shape, corr.shape"
   ]
  },
  {
   "cell_type": "code",
   "execution_count": null,
   "metadata": {
    "hidden": true
   },
   "outputs": [],
   "source": [
    "# labels = [DCASE2018.class_correspondance_reverse[i] for i in range(10)]\n",
    "labels = ['Alarm bell ringing',\n",
    " 'Speech',\n",
    " 'Dog',\n",
    " 'Cat',\n",
    " 'Vacuum cleaner',\n",
    " 'Dishes',\n",
    " 'Frying',\n",
    " 'Electric shaver toothbrush',\n",
    " 'Blender',\n",
    " 'Running water']\n",
    "\n",
    "plt.figure(figsize=(7,7))\n",
    "plt.imshow(corr)\n",
    "plt.xticks(range(10), labels, rotation=80, fontsize=12) # 'vertical'\n",
    "plt.yticks(range(10), labels, fontsize=12)\n",
    "plt.colorbar()\n",
    "plt.tight_layout()\n",
    "\n",
    "# plt.savefig('%s/corr.png'%(savedir_long))\n",
    "# np.savez('%s/corr.npz'%(savedir_long), corr)\n",
    "\n",
    "\n",
    "# Alarm_bell_ringing 0\n",
    "# Speech 1\n",
    "# Dog 2\n",
    "# Cat 3\n",
    "# Vacuum_cleaner 4\n",
    "# Dishes 5\n",
    "# Frying 6\n",
    "# Electric_shaver_toothbrush 7\n",
    "# Blender 8\n",
    "# Running_water 9"
   ]
  },
  {
   "cell_type": "code",
   "execution_count": null,
   "metadata": {
    "hidden": true
   },
   "outputs": [],
   "source": []
  },
  {
   "cell_type": "code",
   "execution_count": null,
   "metadata": {
    "hidden": true
   },
   "outputs": [],
   "source": [
    "global_corr = compute_global_off_diagonal_corr_value(corr)\n",
    "print('%.2f%%'%(global_corr*100.))"
   ]
  },
  {
   "cell_type": "code",
   "execution_count": null,
   "metadata": {
    "hidden": true
   },
   "outputs": [],
   "source": [
    "means_over_time = np.mean(temporalPrediction, axis=1)\n",
    "\n",
    "# cov = np.cov(means_over_time.T)\n",
    "smoothed_corr = np.corrcoef(means_over_time.T)\n",
    "temporalPrediction.shape"
   ]
  },
  {
   "cell_type": "code",
   "execution_count": null,
   "metadata": {
    "hidden": true
   },
   "outputs": [],
   "source": [
    "# import scipy.stats\n",
    "# scipy.stats.pearsonr(inputa[i], inputb[i])[0]**2"
   ]
  },
  {
   "cell_type": "code",
   "execution_count": null,
   "metadata": {
    "hidden": true
   },
   "outputs": [],
   "source": []
  },
  {
   "cell_type": "code",
   "execution_count": null,
   "metadata": {
    "hidden": true
   },
   "outputs": [],
   "source": [
    "labels = ['Alarm bell ringing',\n",
    " 'Speech',\n",
    " 'Dog',\n",
    " 'Cat',\n",
    " 'Vacuum cleaner',\n",
    " 'Dishes',\n",
    " 'Frying',\n",
    " 'Electric shaver toothbrush',\n",
    " 'Blender',\n",
    " 'Running water']\n",
    "\n",
    "plt.figure(figsize=(7,7))\n",
    "plt.imshow(smoothed_corr)\n",
    "plt.xticks(range(10), labels, rotation=80, fontsize=12) # 'vertical'\n",
    "plt.yticks(range(10), labels, fontsize=12)\n",
    "plt.colorbar()\n",
    "plt.tight_layout()\n",
    "\n",
    "# plt.savefig('%s/corr_smoothed_probs.png'%(savedir_long))\n",
    "# np.savez('%s/corr_smoothed_probs.npz'%(savedir_long), corr)\n",
    "\n"
   ]
  },
  {
   "cell_type": "code",
   "execution_count": null,
   "metadata": {
    "hidden": true
   },
   "outputs": [],
   "source": [
    "global_corr = compute_global_off_diagonal_corr_value(smoothed_corr)\n",
    "print('%.2f%%'%(global_corr*100.))"
   ]
  },
  {
   "cell_type": "code",
   "execution_count": null,
   "metadata": {
    "hidden": true
   },
   "outputs": [],
   "source": [
    "tmp = np.copy(rescaled_corr)\n",
    "toto = range(10)\n",
    "tmp[toto, toto] = 0\n",
    "np.diag(np.dot(tmp, tmp.T))*100"
   ]
  },
  {
   "cell_type": "code",
   "execution_count": null,
   "metadata": {
    "hidden": true
   },
   "outputs": [],
   "source": []
  },
  {
   "cell_type": "code",
   "execution_count": null,
   "metadata": {
    "hidden": true
   },
   "outputs": [],
   "source": [
    "toto=3\n",
    "p6=rescaled_all_test_strong_probs[toto, :,6]\n",
    "p9=rescaled_all_test_strong_probs[toto, :,5]\n",
    "plt.figure(figsize=(7,5))\n",
    "plt.plot(p6)\n",
    "plt.plot(p9)"
   ]
  },
  {
   "cell_type": "code",
   "execution_count": null,
   "metadata": {
    "hidden": true
   },
   "outputs": [],
   "source": [
    "corr_wo = np.load('thomas_models_expes_losses/baseline_MIL_max/corr_smoothed_probs.npz')\n",
    "corr_wo = corr_wo['arr_0']\n",
    "\n",
    "corr_w = np.load('thomas_models_expes_losses/max_cos_1e0_2/corr_smoothed_probs.npz')\n",
    "corr_w = corr_w['arr_0']\n",
    "\n",
    "corr_wo[5,6], corr_w[5,6]"
   ]
  },
  {
   "cell_type": "markdown",
   "metadata": {
    "heading_collapsed": true,
    "hidden": true
   },
   "source": [
    "## event overlap analysis"
   ]
  },
  {
   "cell_type": "code",
   "execution_count": null,
   "metadata": {
    "hidden": true
   },
   "outputs": [],
   "source": [
    "def csv2dico(csvpath):\n",
    "    with open(csvpath, 'r') as fh:\n",
    "        firstLine=True\n",
    "        dico = {}\n",
    "        for ligne in fh:\n",
    "            if firstLine: \n",
    "                firstLine=False\n",
    "                continue\n",
    "            tab = ligne.rstrip().split('\\t')\n",
    "            nom, onset, offset, c = tab\n",
    "            onset, offset = float(onset), float(offset)\n",
    "            if nom in dico:\n",
    "                if c in dico[nom]:\n",
    "                    dico[nom][c].append([onset, offset])\n",
    "                else:\n",
    "                    dico[nom][c]=[[onset, offset]]\n",
    "            else:\n",
    "                dico[nom] = {c: [[onset, offset]]}\n",
    "            # print(nom, c, onset, offset)\n",
    "    return dico\n"
   ]
  },
  {
   "cell_type": "code",
   "execution_count": null,
   "metadata": {
    "hidden": true
   },
   "outputs": [],
   "source": [
    "def compute_overlap(d1, f1, d2, f2):\n",
    "    return max(0., (min(f1, f2) - max(d1, d2))*((d2<=d1)*1*(f2>d1)+(d2>d1)*1*(f1>d2)))\n",
    "\n",
    "\n",
    "def unit_test_compute_overlap():\n",
    "    d1, f1, d2, f2 = [0., 10., 2., 4.]\n",
    "    print(compute_overlap(d1, f1, d2, f2))\n",
    "    d1, f1, d2, f2 = [8., 10., 2., 4.]\n",
    "    print(compute_overlap(d1, f1, d2, f2))\n",
    "    d1, f1, d2, f2 = [8., 10., 2., 9.]\n",
    "    print(compute_overlap(d1, f1, d2, f2))\n",
    "    d1, f1, d2, f2 = [8., 10., 9., 9.5]\n",
    "    print(compute_overlap(d1, f1, d2, f2))\n",
    "    \n",
    "unit_test_compute_overlap()"
   ]
  },
  {
   "cell_type": "code",
   "execution_count": null,
   "metadata": {
    "hidden": true
   },
   "outputs": [],
   "source": [
    "def compute_all_overlaps(dico):\n",
    "    \n",
    "    total_overlap = 0.\n",
    "    \n",
    "    for fid in dico.keys():\n",
    "        fid_dico = dico[fid]\n",
    "        \n",
    "        event_list = list(fid_dico.keys())\n",
    "        \n",
    "        for i in range(len(event_list)):\n",
    "            boundaries_i = fid_dico[event_list[i]]\n",
    "            for b_i in boundaries_i:\n",
    "                for j in range(i+1, len(event_list)):\n",
    "                    boundaries_j = fid_dico[event_list[j]]\n",
    "                    for b_j in boundaries_j:\n",
    "                        total_overlap += compute_overlap(b_i[0], b_i[1], b_j[0], b_j[1])\n",
    "    return total_overlap\n",
    "\n",
    "dico = csv2dico('/baie/corpus/DCASE2018/task4/metadata/test.csv')\n",
    "# dico['Y-6-rh8kbZf0_40.000_50.000.wav']\n",
    "print('GT overlap: %.2f min'%(compute_all_overlaps(dico)/60.))\n",
    "\n",
    "dico = csv2dico('thomas_models_expes_losses/baseline_GLU_MIL_max/toEvaluate.csv')\n",
    "# dico['Y-6-rh8kbZf0_40.000_50.000.wav']\n",
    "print('GLU-MIL overlap: %.2f min'%(compute_all_overlaps(dico)/60.))\n",
    "# 709 s\n",
    "\n",
    "dico = csv2dico('thomas_GLU_models_alpha/five_models_max_cos_0.1/9/toEvaluate_with_weak_predictions.csv')\n",
    "# dico['Y-6-rh8kbZf0_40.000_50.000.wav']\n",
    "print('GLU-MIL+cos overlap: %.2f min'%(compute_all_overlaps(dico)/60.))\n",
    "\n",
    "dico = csv2dico('thomas_GLU_models_alpha/five_models_max_cos_0.1/9/toEvaluate_with_oracle_weak_labels.csv')\n",
    "# dico['Y-6-rh8kbZf0_40.000_50.000.wav']\n",
    "print('GLU-MIL+cos+oracle overlap: %.2f min'%(compute_all_overlaps(dico)/60.))\n",
    "\n",
    "dico = csv2dico('test_predictions/toEvaluate.csv')\n",
    "# dico['Y-6-rh8kbZf0_40.000_50.000.wav']\n",
    "print('weight cos overlap: %.2f min'%(compute_all_overlaps(dico)/60.))"
   ]
  },
  {
   "cell_type": "markdown",
   "metadata": {
    "heading_collapsed": true,
    "hidden": true
   },
   "source": [
    "## duration distributions"
   ]
  },
  {
   "cell_type": "code",
   "execution_count": null,
   "metadata": {
    "hidden": true
   },
   "outputs": [],
   "source": [
    "def compute_duration_dico(dico):\n",
    "    \n",
    "    duration_dico = {}\n",
    "    \n",
    "    for fid in dico.keys():\n",
    "        fid_dico = dico[fid]\n",
    "        \n",
    "        event_list = list(fid_dico.keys())\n",
    "        \n",
    "        for ev in event_list:\n",
    "            if ev not in duration_dico:\n",
    "                duration_dico[ev] = [] \n",
    "            boundaries = fid_dico[ev]\n",
    "            for b in boundaries:\n",
    "                duration_dico[ev].append(b[1]-b[0])\n",
    "    return duration_dico\n"
   ]
  },
  {
   "cell_type": "code",
   "execution_count": null,
   "metadata": {
    "hidden": true
   },
   "outputs": [],
   "source": [
    "dico = csv2dico('/baie/corpus/DCASE2018/task4/metadata/test.csv')\n",
    "duration_gt = compute_duration_dico(dico)\n",
    "\n",
    "# dico = csv2dico('thomas_models_expes_losses/baseline_GLU_MIL_max/toEvaluate.csv')\n",
    "# duration = compute_duration_dico(dico)\n",
    "\n",
    "dico = csv2dico('thomas_GLU_models_alpha/five_models_max_cos_0.1/9/toEvaluate_with_weak_predictions.csv')\n",
    "duration = compute_duration_dico(dico)\n",
    "\n",
    "# dico = csv2dico('thomas_GLU_models_alpha/five_models_max_cos_0.1/9/toEvaluate_with_oracle_weak_labels.csv')\n",
    "# duration = compute_duration_dico(dico)\n"
   ]
  },
  {
   "cell_type": "code",
   "execution_count": null,
   "metadata": {
    "hidden": true
   },
   "outputs": [],
   "source": [
    "def plot_duration(duration_dico, duration_dico2):\n",
    "    \n",
    "    fig, ax = plt.subplots(2, 5, sharex=True, figsize=(15,7))\n",
    "\n",
    "    liste = list(DCASE2018.class_correspondance.keys())\n",
    "    liste.sort()\n",
    "    ind=0\n",
    "    for k in liste:\n",
    "        v = duration_dico[k]\n",
    "        v2 = duration_dico2[k]\n",
    "        if ind<5:\n",
    "            ax[0, ind].hist(v, bins=10, range=(0, 10), alpha=0.8) # density=True, \n",
    "            ax[0, ind].hist(v2, bins=10, range=(0, 10), histtype='step', color='k', lw=2)\n",
    "            ax[0, ind].set_title(k)\n",
    "            # ax[0, ind].xlim([0, 10])\n",
    "        else:\n",
    "            ax[1, ind-5].hist(v, bins=10, range=(0, 10), alpha=0.8)\n",
    "            ax[1, ind-5].hist(v2, bins=10, range=(0, 10), histtype='step', color='k', lw=2)\n",
    "            ax[1, ind-5].set_title(k)\n",
    "            # ax[1, ind-5].xlim([0, 10])\n",
    "        ind +=1\n",
    "    # plt.hist()\n",
    "    \n",
    "    plt.tight_layout()\n",
    "#    plt.savefig('duration_hist_GLU_MIL.png')\n",
    "    plt.savefig('duration_hist_GLU_MIL_cos.png')\n",
    "    plt.show()\n",
    "    \n",
    "plot_duration(duration_gt, duration)"
   ]
  },
  {
   "cell_type": "code",
   "execution_count": null,
   "metadata": {
    "hidden": true
   },
   "outputs": [],
   "source": [
    "import pandas as pd\n",
    "import seaborn as sns"
   ]
  },
  {
   "cell_type": "code",
   "execution_count": null,
   "metadata": {
    "hidden": true
   },
   "outputs": [],
   "source": [
    "df = pd.DataFrame.from_dict(duration,orient='index')\n",
    "df = df.unstack().dropna().sort_index(level=1)\n",
    "\n",
    "df.columns = ['Cat', 'Alarm_bell_ringing', 'Dog', 'Dishes', 'Electric_shaver_toothbrush', 'Running_water', \n",
    "              'Speech', 'Vacuum_cleaner', 'Frying', 'Blender']"
   ]
  },
  {
   "cell_type": "code",
   "execution_count": null,
   "metadata": {
    "hidden": true
   },
   "outputs": [],
   "source": [
    "df.shape, df.columns"
   ]
  },
  {
   "cell_type": "code",
   "execution_count": null,
   "metadata": {
    "hidden": true
   },
   "outputs": [],
   "source": [
    "sns.set(color_codes=True)\n",
    "sns.set(style=\"white\", palette=\"muted\")\n",
    "sns.distplot(df)\n",
    "\n",
    "for col_id in df.columns:\n",
    "    sns.distplot(df[col_id])"
   ]
  },
  {
   "cell_type": "markdown",
   "metadata": {
    "heading_collapsed": true,
    "hidden": true
   },
   "source": [
    "## Weight distributions"
   ]
  },
  {
   "cell_type": "code",
   "execution_count": null,
   "metadata": {
    "hidden": true
   },
   "outputs": [],
   "source": [
    "layer = model.layers[-1]\n",
    "\n",
    "w = layer.get_weights()\n",
    "\n",
    "w[0].shape, w[1].shape"
   ]
  },
  {
   "cell_type": "code",
   "execution_count": null,
   "metadata": {
    "hidden": true
   },
   "outputs": [],
   "source": [
    "for k,v in DCASE2018.class_correspondance.items():\n",
    "    print(k,v)"
   ]
  },
  {
   "cell_type": "code",
   "execution_count": null,
   "metadata": {
    "hidden": true
   },
   "outputs": [],
   "source": [
    "from sklearn.metrics.pairwise import euclidean_distances as sklearn_euclidean_distances\n",
    "plt.figure(figsize=(10,7))\n",
    "# w[0][:,5].sort()\n",
    "# w[0][:,6].sort()\n",
    "plt.plot(w[0][:,5])\n",
    "plt.plot(w[0][:,6])\n",
    "plt.show()\n",
    "\n",
    "for i in range(10):\n",
    "    print(i, sklearn_euclidean_distances(w[0][:,6].reshape(1, -1), w[0][:,i].reshape(1, -1))[0,0])"
   ]
  },
  {
   "cell_type": "code",
   "execution_count": null,
   "metadata": {
    "hidden": true
   },
   "outputs": [],
   "source": [
    "w[1][5], w[1][6]"
   ]
  },
  {
   "cell_type": "markdown",
   "metadata": {
    "heading_collapsed": true
   },
   "source": [
    "# Baseline False strong labeling"
   ]
  },
  {
   "cell_type": "code",
   "execution_count": null,
   "metadata": {
    "hidden": true
   },
   "outputs": [],
   "source": [
    "\n",
    "melInput = Input(dataset.getInputShape(\"mel\"))\n",
    "\n",
    "# ---- mel convolution part ----\n",
    "mBlock1 = Conv2D(filters=64, kernel_size=(3, 3), padding=\"same\")(melInput)\n",
    "mBlock1 = BatchNormalization()(mBlock1)\n",
    "mBlock1 = Activation(activation=\"relu\")(mBlock1)\n",
    "mBlock1 = MaxPooling2D(pool_size=(4, 1))(mBlock1)\n",
    "mBlock1 = Dropout(0.1)(mBlock1)\n",
    "# mBlock1 = SpatialDropout2D(0.3, data_format=K.image_data_format())(mBlock1)\n",
    "\n",
    "mBlock2 = Conv2D(filters=64, kernel_size=(3, 3), padding=\"same\")(mBlock1)\n",
    "mBlock2 = BatchNormalization()(mBlock2)\n",
    "mBlock2 = Activation(activation=\"relu\")(mBlock2)\n",
    "mBlock2 = MaxPooling2D(pool_size=(4, 1))(mBlock2)\n",
    "# mBlock2 = SpatialDropout2D(0.3, data_format=K.image_data_format())(mBlock2)\n",
    "mBlock2 = Dropout(0.1)(mBlock2)\n",
    "    \n",
    "mBlock3 = Conv2D(filters=64, kernel_size=(3, 3), padding=\"same\")(mBlock2)\n",
    "mBlock3 = BatchNormalization()(mBlock3)\n",
    "mBlock3 = Activation(activation=\"relu\")(mBlock3)\n",
    "mBlock3 = MaxPooling2D(pool_size=(4, 1))(mBlock3)\n",
    "# mBlock3 = SpatialDropout2D(0.3, data_format=K.image_data_format())(mBlock3)\n",
    "mBlock3 = Dropout(0.1)(mBlock3)\n",
    "    \n",
    "targetShape = int(mBlock3.shape[1] * mBlock3.shape[2])\n",
    "mReshape = Reshape(target_shape=(targetShape, 64))(mBlock3)\n",
    "\n",
    "gru = Bidirectional(\n",
    "    GRU(kernel_initializer='glorot_uniform', activation='tanh', recurrent_dropout=0.1, \\\n",
    "        dropout=0.1, units=64, return_sequences=True)\n",
    ")(mReshape)\n",
    "\n",
    "gru = Dropout(0.1)(gru)\n",
    "\n",
    "output = TimeDistributed(\n",
    "    Dense(64, activation=\"relu\"),\n",
    ")(gru)\n",
    "\n",
    "output = Dropout(0.1)(output)\n",
    "\n",
    "output = TimeDistributed(\n",
    "    Dense(dataset.nbClass, activation=\"sigmoid\"),\n",
    ")(output)\n",
    "\n",
    "# output = TimeDistributed(\n",
    "#  Lambda(lambda x: (x - K.min(x, axis=1, keepdims=True))/(K.max(x, axis=1, keepdims=True)- K.min(x, axis=1, keepdims=True)) ),\n",
    "# )(output)\n",
    "\n",
    "### output = GlobalAveragePooling1D()(output)\n",
    "\n",
    "model = Model(inputs=[melInput], outputs=output)\n",
    "\n",
    "# compile model\n",
    "# metrics = [\"accuracy\"]\n",
    "optimizer = optimizers.Adam()\n",
    "\n",
    "metrics = [\"accuracy\", Metrics.f1, Metrics.recall, Metrics.precision]\n",
    "loss = \"binary_crossentropy\"\n",
    "\n",
    "optimizer = optimizers.Adam()\n",
    "\n",
    "model.compile(loss=loss, optimizer=optimizer, metrics=metrics)\n",
    "\n",
    "model.summary(line_length=100)"
   ]
  },
  {
   "cell_type": "code",
   "execution_count": null,
   "metadata": {
    "hidden": true
   },
   "outputs": [],
   "source": [
    "epochs = 100\n",
    "batch_size = 32\n",
    "\n",
    "def lrate_schedule_fn(epoch):\n",
    "    if epoch < 20:\n",
    "        #print('lr: 1e-4')\n",
    "#         return 1e-4\n",
    "        return 1e-3\n",
    "    elif epoch < 50:\n",
    "        #print('lr: 5e-5')\n",
    "        return 1e-4\n",
    "    else:\n",
    "        # print('lr: 1e-6')\n",
    "        return 1e-6\n",
    "\n",
    "\n",
    "lrate_scheduler = keras.callbacks.LearningRateScheduler(lrate_schedule_fn)\n",
    "early_stop = keras.callbacks.EarlyStopping(monitor='val_loss', min_delta=1e-4, patience=15, verbose=1)\n",
    "\n",
    "history = model.fit(\n",
    "     x=x_train,\n",
    "     y=np.tile(y_train[:, np.newaxis,:], (1, 431, 1)),\n",
    "    # x=dataset.trainingDataset[\"mel\"][\"input\"],\n",
    "    # y=dataset.trainingDataset[\"mel\"][\"output\"][:, np.newaxis,:],\n",
    "    epochs=epochs,\n",
    "    batch_size=batch_size,\n",
    "    validation_data=(\n",
    "        x_val,\n",
    "        np.tile(y_val[:, np.newaxis,:], (1, 431, 1)),\n",
    "        # dataset.validationDataset[\"mel\"][\"input\"],\n",
    "        # dataset.validationDataset[\"mel\"][\"output\"][:, np.newaxis,:]\n",
    "    ),\n",
    "    callbacks=[lrate_scheduler, early_stop],\n",
    "    verbose=1\n",
    ")\n",
    "\n",
    "plt.plot(history.history['loss'])\n",
    "plt.plot(history.history['val_loss'])\n",
    "\n"
   ]
  },
  {
   "cell_type": "code",
   "execution_count": null,
   "metadata": {
    "hidden": true
   },
   "outputs": [],
   "source": [
    "savedir='false_strong_labels'\n",
    "# savedir='baseline_MIL_max'\n",
    "savedir_long='thomas_models_expes_losses/%s'%savedir"
   ]
  },
  {
   "cell_type": "code",
   "execution_count": null,
   "metadata": {
    "hidden": true
   },
   "outputs": [],
   "source": [
    "model.save('%s/model1.h5'%(savedir_long))"
   ]
  },
  {
   "cell_type": "code",
   "execution_count": null,
   "metadata": {
    "hidden": true
   },
   "outputs": [],
   "source": [
    "plt.plot(history.history['loss'], label='train')\n",
    "plt.plot(history.history['val_loss'], label='val')\n",
    "plt.yticks(fontsize=12)\n",
    "plt.xticks(fontsize=12)\n",
    "plt.legend(fontsize=12)\n",
    "plt.savefig('%s/model1_loss.png'%(savedir_long))"
   ]
  }
 ],
 "metadata": {
  "kernelspec": {
   "display_name": "Python 3",
   "language": "python",
   "name": "python3"
  },
  "language_info": {
   "codemirror_mode": {
    "name": "ipython",
    "version": 3
   },
   "file_extension": ".py",
   "mimetype": "text/x-python",
   "name": "python",
   "nbconvert_exporter": "python",
   "pygments_lexer": "ipython3",
   "version": "3.5.3"
  }
 },
 "nbformat": 4,
 "nbformat_minor": 2
}
